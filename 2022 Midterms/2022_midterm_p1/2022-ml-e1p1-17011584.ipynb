{
 "cells": [
  {
   "cell_type": "code",
   "execution_count": 47,
   "id": "d0a5241a",
   "metadata": {
    "execution": {
     "iopub.execute_input": "2022-04-18T12:58:47.880954Z",
     "iopub.status.busy": "2022-04-18T12:58:47.880483Z",
     "iopub.status.idle": "2022-04-18T12:58:51.101309Z",
     "shell.execute_reply": "2022-04-18T12:58:51.100287Z"
    },
    "papermill": {
     "duration": 3.235117,
     "end_time": "2022-04-18T12:58:51.104045",
     "exception": false,
     "start_time": "2022-04-18T12:58:47.868928",
     "status": "completed"
    },
    "tags": []
   },
   "outputs": [],
   "source": [
    "# Import pandas, numpy\n",
    "import pandas as pd\n",
    "import numpy as np\n",
    "\n",
    "# 분류문제를 위한 모델 import\n",
    "from sklearn.neighbors import KNeighborsClassifier\n",
    "from sklearn.linear_model import LogisticRegression\n",
    "from sklearn.discriminant_analysis import LinearDiscriminantAnalysis\n",
    "from sklearn.tree import DecisionTreeClassifier\n",
    "from sklearn.ensemble import RandomForestClassifier\n",
    "\n",
    "# 분류모델 평가를 위한 accuracy_score import\n",
    "from sklearn.metrics import accuracy_score\n",
    "# 분류모델 평가를 위한 train/test set 분리를 위한 train_test_split import\n",
    "from sklearn.model_selection import train_test_split\n",
    "# 정규화를 위한 StandardScaler import\n",
    "from sklearn.preprocessing import StandardScaler\n",
    "\n",
    "# Seed 고정\n",
    "import random\n",
    "import os\n",
    "seed = 42\n",
    "random.seed(seed)\n",
    "np.random.seed(seed)\n",
    "os.environ[\"PYTHONHASHSEED\"] = str(seed)"
   ]
  },
  {
   "cell_type": "code",
   "execution_count": 48,
   "id": "dc5aceae",
   "metadata": {
    "execution": {
     "iopub.execute_input": "2022-04-18T12:58:51.122796Z",
     "iopub.status.busy": "2022-04-18T12:58:51.122535Z",
     "iopub.status.idle": "2022-04-18T12:58:51.129357Z",
     "shell.execute_reply": "2022-04-18T12:58:51.128319Z"
    },
    "papermill": {
     "duration": 0.018636,
     "end_time": "2022-04-18T12:58:51.131438",
     "exception": false,
     "start_time": "2022-04-18T12:58:51.112802",
     "status": "completed"
    },
    "tags": []
   },
   "outputs": [],
   "source": [
    "# 분류 모델 평가를 위해 default값을 넣은 분류모델을 각각 학습\n",
    "# train 과 test으로 분리한 데이터로 각 분류모델별 accuracy_score 계산 후 result 배열에 넣기\n",
    "def _classification(x, y, result:list):\n",
    "    x_train, x_test, y_train, y_test = train_test_split(x, y, test_size=0.2, random_state=1, stratify=y)\n",
    "    \n",
    "    for model in [KNeighborsClassifier(), KNeighborsClassifier(weights='distance'), LogisticRegression(solver='newton-cg'), LinearDiscriminantAnalysis(), DecisionTreeClassifier(), RandomForestClassifier()]:\n",
    "        model.fit(x_train, y_train)\n",
    "        res = model.predict(x_test)\n",
    "        result.append({'model': str(model), 'score': accuracy_score(res, y_test)})"
   ]
  },
  {
   "cell_type": "code",
   "execution_count": 49,
   "id": "55bb8288",
   "metadata": {
    "execution": {
     "iopub.execute_input": "2022-04-18T12:58:51.149763Z",
     "iopub.status.busy": "2022-04-18T12:58:51.149505Z",
     "iopub.status.idle": "2022-04-18T12:58:51.190169Z",
     "shell.execute_reply": "2022-04-18T12:58:51.189208Z"
    },
    "papermill": {
     "duration": 0.053197,
     "end_time": "2022-04-18T12:58:51.193019",
     "exception": false,
     "start_time": "2022-04-18T12:58:51.139822",
     "status": "completed"
    },
    "tags": []
   },
   "outputs": [],
   "source": [
    "# 데이터 불러오기\n",
    "data = pd.read_csv('train.csv').drop('index', axis=1)\n",
    "test = pd.read_csv('test.csv')\n",
    "\n",
    "# Outlier 제거\n",
    "data = data.drop(data[(data.thal == -1) | (data.ca == -1)].index)\n",
    "\n",
    "# 심장병 존재 시 전부 1로 바꿈\n",
    "data.loc[data.target > 1, 'target'] = 1\n",
    "\n",
    "x = data.drop(['target'], axis=1)\n",
    "test = test.drop(['index'], axis=1)\n",
    "y = data['target']\n"
   ]
  },
  {
   "cell_type": "code",
   "execution_count": 51,
   "id": "cbdb4e71",
   "metadata": {
    "execution": {
     "iopub.execute_input": "2022-04-18T12:58:51.242383Z",
     "iopub.status.busy": "2022-04-18T12:58:51.242075Z",
     "iopub.status.idle": "2022-04-18T12:58:51.499629Z",
     "shell.execute_reply": "2022-04-18T12:58:51.498753Z"
    },
    "papermill": {
     "duration": 0.269305,
     "end_time": "2022-04-18T12:58:51.501769",
     "exception": false,
     "start_time": "2022-04-18T12:58:51.232464",
     "status": "completed"
    },
    "tags": []
   },
   "outputs": [
    {
     "name": "stdout",
     "output_type": "stream",
     "text": [
      "                                      model     score\n",
      "0                    KNeighborsClassifier()  0.708333\n",
      "1  KNeighborsClassifier(weights='distance')  0.666667\n",
      "2    LogisticRegression(solver='newton-cg')  0.791667\n",
      "3              LinearDiscriminantAnalysis()  0.770833\n",
      "4                  DecisionTreeClassifier()  0.729167\n",
      "5                  RandomForestClassifier()  0.729167\n"
     ]
    }
   ],
   "source": [
    "result = []\n",
    "_classification(x, y, result)\n",
    "print(pd.DataFrame(result))"
   ]
  },
  {
   "cell_type": "code",
   "execution_count": 52,
   "id": "9ee2e21a",
   "metadata": {
    "execution": {
     "iopub.execute_input": "2022-04-18T12:58:51.521634Z",
     "iopub.status.busy": "2022-04-18T12:58:51.521348Z",
     "iopub.status.idle": "2022-04-18T12:58:51.566506Z",
     "shell.execute_reply": "2022-04-18T12:58:51.565887Z"
    },
    "papermill": {
     "duration": 0.057165,
     "end_time": "2022-04-18T12:58:51.568563",
     "exception": false,
     "start_time": "2022-04-18T12:58:51.511398",
     "status": "completed"
    },
    "tags": []
   },
   "outputs": [],
   "source": [
    "submit = pd.read_csv('submit.csv')\n",
    "model = LogisticRegression(solver='saga', max_iter=10000)\n",
    "model.fit(x, y)\n",
    "res = model.predict(test)\n",
    "submit['target'] = res\n",
    "submit.to_csv('submission.csv', index=False)"
   ]
  }
 ],
 "metadata": {
  "kernelspec": {
   "display_name": "Python 3",
   "language": "python",
   "name": "python3"
  },
  "language_info": {
   "codemirror_mode": {
    "name": "ipython",
    "version": 3
   },
   "file_extension": ".py",
   "mimetype": "text/x-python",
   "name": "python",
   "nbconvert_exporter": "python",
   "pygments_lexer": "ipython3",
   "version": "3.9.7"
  },
  "papermill": {
   "default_parameters": {},
   "duration": 14.669628,
   "end_time": "2022-04-18T12:58:52.517000",
   "environment_variables": {},
   "exception": null,
   "input_path": "__notebook__.ipynb",
   "output_path": "__notebook__.ipynb",
   "parameters": {},
   "start_time": "2022-04-18T12:58:37.847372",
   "version": "2.3.4"
  }
 },
 "nbformat": 4,
 "nbformat_minor": 5
}
