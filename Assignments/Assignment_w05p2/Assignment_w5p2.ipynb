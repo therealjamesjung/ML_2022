{
 "cells": [
  {
   "cell_type": "code",
   "execution_count": 2,
   "metadata": {},
   "outputs": [],
   "source": [
    "# Import necessary libraries/packages\n",
    "import pandas as pd\n",
    "import numpy as np\n",
    "\n",
    "from sklearn.linear_model import LogisticRegression\n",
    "\n",
    "# Fix random seed\n",
    "import random\n",
    "import os\n",
    "seed = 42\n",
    "random.seed(seed)\n",
    "np.random.seed(seed)\n",
    "os.environ[\"PYTHONHASHSEED\"] = str(seed)"
   ]
  },
  {
   "cell_type": "code",
   "execution_count": 3,
   "metadata": {},
   "outputs": [],
   "source": [
    "# Read data\n",
    "\n",
    "x = pd.read_csv('trainX.csv')\n",
    "y = pd.read_csv('trainY.csv')['label']\n",
    "test = pd.read_csv('testX.csv')"
   ]
  },
  {
   "cell_type": "code",
   "execution_count": 12,
   "metadata": {},
   "outputs": [],
   "source": [
    "# Preprocess data\n",
    "options = ['mean', '25', '50', '75'] # 'std', , 'min', 'max'\n",
    "\n",
    "_x, _test = pd.DataFrame(), pd.DataFrame()\n",
    "\n",
    "for option in options:\n",
    "    _x['sq_' + option] = x['sleep_time_' + option] * x['sleep_quality_' + option]\n",
    "    _test['sq_' + option] = test['sleep_time_' + option] * test['sleep_quality_' + option]"
   ]
  },
  {
   "cell_type": "code",
   "execution_count": 22,
   "metadata": {},
   "outputs": [],
   "source": [
    "model = LogisticRegression(solver='lbfgs', penalty='l2', class_weight=None)\n",
    "model.fit(_x, y)\n",
    "res = model.predict(_test)\n",
    "res = pd.DataFrame(data=res, columns=['label'])\n",
    "res.index += 1\n",
    "res.to_csv('submit.csv', index_label='id')"
   ]
  }
 ],
 "metadata": {
  "interpreter": {
   "hash": "be98ccaa56f3cdd5d2444cc133e3c6e14d93a3022c9b1e84eb49a3182cde92f4"
  },
  "kernelspec": {
   "display_name": "Python 3.9.7 64-bit ('base')",
   "language": "python",
   "name": "python3"
  },
  "language_info": {
   "codemirror_mode": {
    "name": "ipython",
    "version": 3
   },
   "file_extension": ".py",
   "mimetype": "text/x-python",
   "name": "python",
   "nbconvert_exporter": "python",
   "pygments_lexer": "ipython3",
   "version": "3.9.7"
  },
  "orig_nbformat": 4
 },
 "nbformat": 4,
 "nbformat_minor": 2
}
