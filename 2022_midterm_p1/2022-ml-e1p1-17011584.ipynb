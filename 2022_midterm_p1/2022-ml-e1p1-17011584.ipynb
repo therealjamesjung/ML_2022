{
 "cells": [
  {
   "cell_type": "code",
   "execution_count": 1,
   "id": "d0a5241a",
   "metadata": {
    "execution": {
     "iopub.execute_input": "2022-04-18T12:58:47.880954Z",
     "iopub.status.busy": "2022-04-18T12:58:47.880483Z",
     "iopub.status.idle": "2022-04-18T12:58:51.101309Z",
     "shell.execute_reply": "2022-04-18T12:58:51.100287Z"
    },
    "papermill": {
     "duration": 3.235117,
     "end_time": "2022-04-18T12:58:51.104045",
     "exception": false,
     "start_time": "2022-04-18T12:58:47.868928",
     "status": "completed"
    },
    "tags": []
   },
   "outputs": [],
   "source": [
    "# Import pandas, numpy\n",
    "import pandas as pd\n",
    "import numpy as np\n",
    "import pandas_profiling\n",
    "\n",
    "# 분류문제를 위한 모델 import\n",
    "from sklearn.neighbors import KNeighborsClassifier\n",
    "from sklearn.linear_model import LogisticRegression\n",
    "from sklearn.discriminant_analysis import LinearDiscriminantAnalysis\n",
    "from sklearn.tree import DecisionTreeClassifier\n",
    "from sklearn.ensemble import RandomForestClassifier\n",
    "\n",
    "# 분류모델 평가를 위한 accuracy_score import\n",
    "from sklearn.metrics import accuracy_score\n",
    "# 분류모델 평가를 위한 train/test set 분리를 위한 train_test_split import\n",
    "from sklearn.model_selection import train_test_split\n",
    "# 정규화를 위한 StandardScaler import\n",
    "from sklearn.preprocessing import StandardScaler\n",
    "\n",
    "# Seed 고정\n",
    "import random\n",
    "import os\n",
    "seed = 42\n",
    "random.seed(seed)\n",
    "np.random.seed(seed)\n",
    "os.environ[\"PYTHONHASHSEED\"] = str(seed)"
   ]
  },
  {
   "cell_type": "code",
   "execution_count": 2,
   "id": "dc5aceae",
   "metadata": {
    "execution": {
     "iopub.execute_input": "2022-04-18T12:58:51.122796Z",
     "iopub.status.busy": "2022-04-18T12:58:51.122535Z",
     "iopub.status.idle": "2022-04-18T12:58:51.129357Z",
     "shell.execute_reply": "2022-04-18T12:58:51.128319Z"
    },
    "papermill": {
     "duration": 0.018636,
     "end_time": "2022-04-18T12:58:51.131438",
     "exception": false,
     "start_time": "2022-04-18T12:58:51.112802",
     "status": "completed"
    },
    "tags": []
   },
   "outputs": [],
   "source": [
    "# 분류 모델 평가를 위해 default값을 넣은 분류모델을 각각 학습\n",
    "# train 과 test으로 분리한 데이터로 각 분류모델별 accuracy_score 계산 후 result 배열에 넣기\n",
    "def _classification(x, y, result:list):\n",
    "    x_train, x_test, y_train, y_test = train_test_split(x, y, test_size=0.2, random_state=1, stratify=y)\n",
    "    \n",
    "    for model in [KNeighborsClassifier(), KNeighborsClassifier(weights='distance'), LogisticRegression(solver='newton-cg'), LinearDiscriminantAnalysis(), DecisionTreeClassifier(), RandomForestClassifier()]:\n",
    "        model.fit(x_train, y_train)\n",
    "        res = model.predict(x_test)\n",
    "        result.append({'model': str(model), 'score': accuracy_score(res, y_test)})"
   ]
  },
  {
   "cell_type": "code",
   "execution_count": 3,
   "id": "55bb8288",
   "metadata": {
    "execution": {
     "iopub.execute_input": "2022-04-18T12:58:51.149763Z",
     "iopub.status.busy": "2022-04-18T12:58:51.149505Z",
     "iopub.status.idle": "2022-04-18T12:58:51.190169Z",
     "shell.execute_reply": "2022-04-18T12:58:51.189208Z"
    },
    "papermill": {
     "duration": 0.053197,
     "end_time": "2022-04-18T12:58:51.193019",
     "exception": false,
     "start_time": "2022-04-18T12:58:51.139822",
     "status": "completed"
    },
    "tags": []
   },
   "outputs": [],
   "source": [
    "# 데이터 불러오기\n",
    "data = pd.read_csv('../input/2022-ml-midterm-p1/train.csv').drop('index', axis=1)\n",
    "test = pd.read_csv('../input/2022-ml-midterm-p1/test.csv')\n",
    "\n",
    "_data = data\n",
    "\n",
    "# Outlier 제거\n",
    "data = data.drop(data[(data.thal == -1) | (data.ca == -1)].index)\n",
    "\n",
    "# data.loc[data.target > 1, 'target'] = 1\n",
    "data.loc[data.restecg == 2, 'restecg'] = 1\n",
    "\n",
    "x = data.drop(['target', 'fbs'], axis=1)\n",
    "test = test.drop(['index', 'fbs'], axis=1)\n",
    "y = data['target']\n"
   ]
  },
  {
   "cell_type": "code",
   "execution_count": 4,
   "id": "faea8601",
   "metadata": {
    "execution": {
     "iopub.execute_input": "2022-04-18T12:58:51.211749Z",
     "iopub.status.busy": "2022-04-18T12:58:51.211483Z",
     "iopub.status.idle": "2022-04-18T12:58:51.222122Z",
     "shell.execute_reply": "2022-04-18T12:58:51.221302Z"
    },
    "papermill": {
     "duration": 0.022561,
     "end_time": "2022-04-18T12:58:51.224077",
     "exception": false,
     "start_time": "2022-04-18T12:58:51.201516",
     "status": "completed"
    },
    "tags": []
   },
   "outputs": [],
   "source": [
    "sc = StandardScaler()\n",
    "x = sc.fit_transform(x, y)\n",
    "test = sc.transform(test)"
   ]
  },
  {
   "cell_type": "code",
   "execution_count": 5,
   "id": "cbdb4e71",
   "metadata": {
    "execution": {
     "iopub.execute_input": "2022-04-18T12:58:51.242383Z",
     "iopub.status.busy": "2022-04-18T12:58:51.242075Z",
     "iopub.status.idle": "2022-04-18T12:58:51.499629Z",
     "shell.execute_reply": "2022-04-18T12:58:51.498753Z"
    },
    "papermill": {
     "duration": 0.269305,
     "end_time": "2022-04-18T12:58:51.501769",
     "exception": false,
     "start_time": "2022-04-18T12:58:51.232464",
     "status": "completed"
    },
    "tags": []
   },
   "outputs": [
    {
     "name": "stdout",
     "output_type": "stream",
     "text": [
      "                                      model     score\n",
      "0                    KNeighborsClassifier()  0.541667\n",
      "1  KNeighborsClassifier(weights='distance')  0.520833\n",
      "2    LogisticRegression(solver='newton-cg')  0.645833\n",
      "3              LinearDiscriminantAnalysis()  0.645833\n",
      "4                  DecisionTreeClassifier()  0.437500\n",
      "5                  RandomForestClassifier()  0.645833\n"
     ]
    }
   ],
   "source": [
    "result = []\n",
    "_classification(x, y, result)\n",
    "print(pd.DataFrame(result))"
   ]
  },
  {
   "cell_type": "code",
   "execution_count": 6,
   "id": "9ee2e21a",
   "metadata": {
    "execution": {
     "iopub.execute_input": "2022-04-18T12:58:51.521634Z",
     "iopub.status.busy": "2022-04-18T12:58:51.521348Z",
     "iopub.status.idle": "2022-04-18T12:58:51.566506Z",
     "shell.execute_reply": "2022-04-18T12:58:51.565887Z"
    },
    "papermill": {
     "duration": 0.057165,
     "end_time": "2022-04-18T12:58:51.568563",
     "exception": false,
     "start_time": "2022-04-18T12:58:51.511398",
     "status": "completed"
    },
    "tags": []
   },
   "outputs": [
    {
     "data": {
      "text/html": [
       "<div>\n",
       "<style scoped>\n",
       "    .dataframe tbody tr th:only-of-type {\n",
       "        vertical-align: middle;\n",
       "    }\n",
       "\n",
       "    .dataframe tbody tr th {\n",
       "        vertical-align: top;\n",
       "    }\n",
       "\n",
       "    .dataframe thead th {\n",
       "        text-align: right;\n",
       "    }\n",
       "</style>\n",
       "<table border=\"1\" class=\"dataframe\">\n",
       "  <thead>\n",
       "    <tr style=\"text-align: right;\">\n",
       "      <th></th>\n",
       "      <th>index</th>\n",
       "      <th>target</th>\n",
       "    </tr>\n",
       "  </thead>\n",
       "  <tbody>\n",
       "    <tr>\n",
       "      <th>0</th>\n",
       "      <td>3</td>\n",
       "      <td>0</td>\n",
       "    </tr>\n",
       "    <tr>\n",
       "      <th>1</th>\n",
       "      <td>6</td>\n",
       "      <td>1</td>\n",
       "    </tr>\n",
       "    <tr>\n",
       "      <th>2</th>\n",
       "      <td>21</td>\n",
       "      <td>0</td>\n",
       "    </tr>\n",
       "    <tr>\n",
       "      <th>3</th>\n",
       "      <td>24</td>\n",
       "      <td>1</td>\n",
       "    </tr>\n",
       "    <tr>\n",
       "      <th>4</th>\n",
       "      <td>31</td>\n",
       "      <td>1</td>\n",
       "    </tr>\n",
       "    <tr>\n",
       "      <th>...</th>\n",
       "      <td>...</td>\n",
       "      <td>...</td>\n",
       "    </tr>\n",
       "    <tr>\n",
       "      <th>56</th>\n",
       "      <td>293</td>\n",
       "      <td>1</td>\n",
       "    </tr>\n",
       "    <tr>\n",
       "      <th>57</th>\n",
       "      <td>294</td>\n",
       "      <td>0</td>\n",
       "    </tr>\n",
       "    <tr>\n",
       "      <th>58</th>\n",
       "      <td>297</td>\n",
       "      <td>0</td>\n",
       "    </tr>\n",
       "    <tr>\n",
       "      <th>59</th>\n",
       "      <td>298</td>\n",
       "      <td>0</td>\n",
       "    </tr>\n",
       "    <tr>\n",
       "      <th>60</th>\n",
       "      <td>302</td>\n",
       "      <td>0</td>\n",
       "    </tr>\n",
       "  </tbody>\n",
       "</table>\n",
       "<p>61 rows × 2 columns</p>\n",
       "</div>"
      ],
      "text/plain": [
       "    index  target\n",
       "0       3       0\n",
       "1       6       1\n",
       "2      21       0\n",
       "3      24       1\n",
       "4      31       1\n",
       "..    ...     ...\n",
       "56    293       1\n",
       "57    294       0\n",
       "58    297       0\n",
       "59    298       0\n",
       "60    302       0\n",
       "\n",
       "[61 rows x 2 columns]"
      ]
     },
     "execution_count": 6,
     "metadata": {},
     "output_type": "execute_result"
    }
   ],
   "source": [
    "submit = pd.read_csv('../input/2022-ml-midterm-p1/submit.csv')\n",
    "model = LogisticRegression(solver='newton-cg')\n",
    "model.fit(x, y)\n",
    "res = model.predict(test)\n",
    "submit['target'] = res\n",
    "submit.loc[submit.target > 1, 'target'] = 1\n",
    "submit.to_csv('submission.csv', index=False)\n",
    "submit"
   ]
  },
  {
   "cell_type": "code",
   "execution_count": null,
   "id": "eb6ee948",
   "metadata": {
    "papermill": {
     "duration": 0.009139,
     "end_time": "2022-04-18T12:58:51.586953",
     "exception": false,
     "start_time": "2022-04-18T12:58:51.577814",
     "status": "completed"
    },
    "tags": []
   },
   "outputs": [],
   "source": []
  }
 ],
 "metadata": {
  "kernelspec": {
   "display_name": "Python 3",
   "language": "python",
   "name": "python3"
  },
  "language_info": {
   "codemirror_mode": {
    "name": "ipython",
    "version": 3
   },
   "file_extension": ".py",
   "mimetype": "text/x-python",
   "name": "python",
   "nbconvert_exporter": "python",
   "pygments_lexer": "ipython3",
   "version": "3.7.12"
  },
  "papermill": {
   "default_parameters": {},
   "duration": 14.669628,
   "end_time": "2022-04-18T12:58:52.517000",
   "environment_variables": {},
   "exception": null,
   "input_path": "__notebook__.ipynb",
   "output_path": "__notebook__.ipynb",
   "parameters": {},
   "start_time": "2022-04-18T12:58:37.847372",
   "version": "2.3.4"
  }
 },
 "nbformat": 4,
 "nbformat_minor": 5
}
