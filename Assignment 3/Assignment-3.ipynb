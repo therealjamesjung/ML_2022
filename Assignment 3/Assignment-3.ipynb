{
 "cells": [
  {
   "cell_type": "code",
   "execution_count": 1,
   "metadata": {},
   "outputs": [],
   "source": [
    "# Import necessary libraries/packages\n",
    "import pandas as pd\n",
    "import numpy as np\n",
    "\n",
    "from sklearn.neighbors import KNeighborsClassifier\n",
    "from sklearn.preprocessing import StandardScaler\n",
    "from sklearn.model_selection import train_test_split\n",
    "from sklearn.metrics import accuracy_score\n",
    "\n",
    "# Fix random seed\n",
    "import random\n",
    "import os\n",
    "seed = 42\n",
    "random.seed(seed)\n",
    "np.random.seed(seed)\n",
    "os.environ[\"PYTHONHASHSEED\"] = str(seed)"
   ]
  },
  {
   "cell_type": "code",
   "execution_count": 2,
   "metadata": {},
   "outputs": [],
   "source": [
    "# Read data from csv file\n",
    "data = pd.read_csv('train.csv')\n",
    "test = pd.read_csv('test.csv')"
   ]
  },
  {
   "cell_type": "code",
   "execution_count": 3,
   "metadata": {},
   "outputs": [],
   "source": [
    "# le = LabelEncoder()\n",
    "sc = StandardScaler()"
   ]
  },
  {
   "cell_type": "code",
   "execution_count": 4,
   "metadata": {},
   "outputs": [],
   "source": [
    "# Preprocess data\n",
    "x = data.drop('label', axis=1)\n",
    "y = data['label'].values"
   ]
  },
  {
   "cell_type": "code",
   "execution_count": 5,
   "metadata": {},
   "outputs": [],
   "source": [
    "def _predict(n, train_set, test_set, train_ans, test_ans, size, result:list, mode):\n",
    "    knn = KNeighborsClassifier(n_neighbors=n, p=2)\n",
    "    knn.fit(train_set, train_ans)\n",
    "    train_pred = knn.predict(train_set)\n",
    "    test_pred = knn.predict(test_set)\n",
    "    \n",
    "    current = {\n",
    "        'n': n,\n",
    "        'test size': size,\n",
    "        'mode': mode,\n",
    "        'Train': accuracy_score(train_ans, train_pred),\n",
    "        'Test': accuracy_score(test_ans, test_pred)\n",
    "        }\n",
    "    result.append(current)"
   ]
  },
  {
   "cell_type": "code",
   "execution_count": 6,
   "metadata": {},
   "outputs": [],
   "source": [
    "\n",
    "def _train(size, result:list):\n",
    "    try :\n",
    "        x_train, x_test, y_train, y_test = train_test_split(x,y, test_size=size, random_state=1, stratify=y)\n",
    "    except:\n",
    "        x_train, x_test, y_train, y_test = x, x, y, y\n",
    "    print('train start')\n",
    "    for i in range (2, 21):\n",
    "        _predict(i, x_train, x_test, y_train, y_test, size, result, 'train')\n"
   ]
  },
  {
   "cell_type": "code",
   "execution_count": 7,
   "metadata": {},
   "outputs": [
    {
     "name": "stdout",
     "output_type": "stream",
     "text": [
      "train start\n",
      "train start\n",
      "train start\n",
      "train start\n",
      "train start\n",
      "train start\n",
      "train start\n",
      "train start\n",
      "train start\n",
      "train start\n",
      "train start\n",
      "train start\n",
      "train start\n",
      "train start\n",
      "train start\n",
      "train start\n",
      "train start\n",
      "train start\n",
      "train start\n",
      "train start\n",
      "train start\n",
      "train start\n",
      "train start\n",
      "train start\n"
     ]
    }
   ],
   "source": [
    "result = []\n",
    "for i in [0.4, 0.45, 0.475, 0.5, 0.525, 0.55, 0.575, 0.6, 0.625, 0.65, 0.675, 0.7, 0.725, 0.75, 0.775, 0.8, 0.825, 0.85, 0.875, 0.9, 0.925, 0.95, 0.975, 1]:\n",
    "    _train(i, result)"
   ]
  },
  {
   "cell_type": "code",
   "execution_count": 8,
   "metadata": {},
   "outputs": [
    {
     "data": {
      "text/html": [
       "<div>\n",
       "<style scoped>\n",
       "    .dataframe tbody tr th:only-of-type {\n",
       "        vertical-align: middle;\n",
       "    }\n",
       "\n",
       "    .dataframe tbody tr th {\n",
       "        vertical-align: top;\n",
       "    }\n",
       "\n",
       "    .dataframe thead th {\n",
       "        text-align: right;\n",
       "    }\n",
       "</style>\n",
       "<table border=\"1\" class=\"dataframe\">\n",
       "  <thead>\n",
       "    <tr style=\"text-align: right;\">\n",
       "      <th></th>\n",
       "      <th>n</th>\n",
       "      <th>test size</th>\n",
       "      <th>mode</th>\n",
       "      <th>Train</th>\n",
       "      <th>Test</th>\n",
       "    </tr>\n",
       "  </thead>\n",
       "  <tbody>\n",
       "    <tr>\n",
       "      <th>438</th>\n",
       "      <td>3</td>\n",
       "      <td>1.000</td>\n",
       "      <td>train</td>\n",
       "      <td>0.993939</td>\n",
       "      <td>0.993939</td>\n",
       "    </tr>\n",
       "    <tr>\n",
       "      <th>58</th>\n",
       "      <td>3</td>\n",
       "      <td>0.500</td>\n",
       "      <td>train</td>\n",
       "      <td>0.993939</td>\n",
       "      <td>0.973333</td>\n",
       "    </tr>\n",
       "    <tr>\n",
       "      <th>1</th>\n",
       "      <td>3</td>\n",
       "      <td>0.400</td>\n",
       "      <td>train</td>\n",
       "      <td>0.993939</td>\n",
       "      <td>0.972727</td>\n",
       "    </tr>\n",
       "    <tr>\n",
       "      <th>20</th>\n",
       "      <td>3</td>\n",
       "      <td>0.450</td>\n",
       "      <td>train</td>\n",
       "      <td>0.993385</td>\n",
       "      <td>0.971736</td>\n",
       "    </tr>\n",
       "    <tr>\n",
       "      <th>39</th>\n",
       "      <td>3</td>\n",
       "      <td>0.475</td>\n",
       "      <td>train</td>\n",
       "      <td>0.993072</td>\n",
       "      <td>0.970663</td>\n",
       "    </tr>\n",
       "    <tr>\n",
       "      <th>...</th>\n",
       "      <td>...</td>\n",
       "      <td>...</td>\n",
       "      <td>...</td>\n",
       "      <td>...</td>\n",
       "      <td>...</td>\n",
       "    </tr>\n",
       "    <tr>\n",
       "      <th>435</th>\n",
       "      <td>19</td>\n",
       "      <td>0.975</td>\n",
       "      <td>train</td>\n",
       "      <td>0.195122</td>\n",
       "      <td>0.178993</td>\n",
       "    </tr>\n",
       "    <tr>\n",
       "      <th>433</th>\n",
       "      <td>17</td>\n",
       "      <td>0.975</td>\n",
       "      <td>train</td>\n",
       "      <td>0.195122</td>\n",
       "      <td>0.178372</td>\n",
       "    </tr>\n",
       "    <tr>\n",
       "      <th>436</th>\n",
       "      <td>20</td>\n",
       "      <td>0.975</td>\n",
       "      <td>train</td>\n",
       "      <td>0.195122</td>\n",
       "      <td>0.178372</td>\n",
       "    </tr>\n",
       "    <tr>\n",
       "      <th>432</th>\n",
       "      <td>16</td>\n",
       "      <td>0.975</td>\n",
       "      <td>train</td>\n",
       "      <td>0.195122</td>\n",
       "      <td>0.177129</td>\n",
       "    </tr>\n",
       "    <tr>\n",
       "      <th>431</th>\n",
       "      <td>15</td>\n",
       "      <td>0.975</td>\n",
       "      <td>train</td>\n",
       "      <td>0.195122</td>\n",
       "      <td>0.175886</td>\n",
       "    </tr>\n",
       "  </tbody>\n",
       "</table>\n",
       "<p>456 rows × 5 columns</p>\n",
       "</div>"
      ],
      "text/plain": [
       "      n  test size   mode     Train      Test\n",
       "438   3      1.000  train  0.993939  0.993939\n",
       "58    3      0.500  train  0.993939  0.973333\n",
       "1     3      0.400  train  0.993939  0.972727\n",
       "20    3      0.450  train  0.993385  0.971736\n",
       "39    3      0.475  train  0.993072  0.970663\n",
       "..   ..        ...    ...       ...       ...\n",
       "435  19      0.975  train  0.195122  0.178993\n",
       "433  17      0.975  train  0.195122  0.178372\n",
       "436  20      0.975  train  0.195122  0.178372\n",
       "432  16      0.975  train  0.195122  0.177129\n",
       "431  15      0.975  train  0.195122  0.175886\n",
       "\n",
       "[456 rows x 5 columns]"
      ]
     },
     "execution_count": 8,
     "metadata": {},
     "output_type": "execute_result"
    }
   ],
   "source": [
    "pd.DataFrame(result).sort_values(by=['Train', 'Test'], ascending=False)"
   ]
  },
  {
   "cell_type": "code",
   "execution_count": 9,
   "metadata": {},
   "outputs": [],
   "source": [
    "# Get final model result\n",
    "\n",
    "x_train, x_test, y_train, y_test = train_test_split(x,y, test_size=0.5, random_state=1, stratify=y)\n",
    "\n",
    "knn = KNeighborsClassifier(n_neighbors=3, p=2)\n",
    "knn.fit(x_train, y_train)\n",
    "res = knn.predict(sc.transform(test))\n",
    "res = pd.DataFrame(data=res, columns=['label'])\n",
    "res.to_csv('submit.csv', index_label='id')"
   ]
  }
 ],
 "metadata": {
  "interpreter": {
   "hash": "5edc071939331937afb628cd02d1e83bf0089e07a94a421ede6d1eb56008d9f7"
  },
  "kernelspec": {
   "display_name": "Python 3.9.7 64-bit ('shims')",
   "language": "python",
   "name": "python3"
  },
  "language_info": {
   "codemirror_mode": {
    "name": "ipython",
    "version": 3
   },
   "file_extension": ".py",
   "mimetype": "text/x-python",
   "name": "python",
   "nbconvert_exporter": "python",
   "pygments_lexer": "ipython3",
   "version": "3.9.7"
  },
  "orig_nbformat": 4
 },
 "nbformat": 4,
 "nbformat_minor": 2
}
