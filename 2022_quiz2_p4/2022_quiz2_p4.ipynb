{
 "cells": [
  {
   "cell_type": "code",
   "execution_count": 119,
   "metadata": {},
   "outputs": [],
   "source": [
    "import pandas as pd\n",
    "import numpy as np\n",
    "\n",
    "import pandas_profiling\n",
    "\n",
    "from sklearn.preprocessing import LabelEncoder\n",
    "from sklearn.feature_extraction.text import CountVectorizer"
   ]
  },
  {
   "cell_type": "code",
   "execution_count": 120,
   "metadata": {},
   "outputs": [],
   "source": [
    "train = pd.read_csv('train.csv')\n",
    "test = pd.read_csv('test.csv')"
   ]
  },
  {
   "cell_type": "code",
   "execution_count": 121,
   "metadata": {},
   "outputs": [],
   "source": [
    "train = train.drop(['Unnamed: 0', '일자'], axis=1)\n",
    "test = test.drop(['Unnamed: 0', '일자'], axis=1)"
   ]
  },
  {
   "cell_type": "code",
   "execution_count": 122,
   "metadata": {},
   "outputs": [],
   "source": [
    "def label_encode(train, test, columns):\n",
    "    le = LabelEncoder()\n",
    "    for column in columns:\n",
    "        le.fit(pd.concat([train[column], test[column]]).drop_duplicates())\n",
    "        train[column] = le.transform(train[column])\n",
    "        test[column] = le.transform(test[column])"
   ]
  },
  {
   "cell_type": "code",
   "execution_count": 123,
   "metadata": {},
   "outputs": [],
   "source": [
    "label_encode(train, test, ['요일'])"
   ]
  },
  {
   "cell_type": "code",
   "execution_count": 140,
   "metadata": {},
   "outputs": [],
   "source": [
    "breakfast_train = [x for x in train['조식메뉴']]\n",
    "lunch_train = [x for x in train['중식메뉴']]\n",
    "dinner_train = [x for x in train['석식메뉴']]\n",
    "\n",
    "breakfast_test = [x for x in test['조식메뉴']]\n",
    "lunch_test = [x for x in test['중식메뉴']]\n",
    "dinner_test = [x for x in test['석식메뉴']]"
   ]
  },
  {
   "cell_type": "code",
   "execution_count": 141,
   "metadata": {},
   "outputs": [],
   "source": [
    "vectorizer = CountVectorizer()\n",
    "breakfast_features = vectorizer.fit(breakfast_test + breakfast_train)\n",
    "breakfast_train = vectorizer.transform(breakfast_train).toarray().flatten()\n",
    "breakfast_test = vectorizer.transform(breakfast_test).toarray().flatten()\n",
    "\n",
    "lunch_features = vectorizer.fit(lunch_test + lunch_train)\n",
    "lunch_train = vectorizer.transform(lunch_train).toarray().flatten()\n",
    "lunch_test = vectorizer.transform(lunch_test).toarray().flatten()\n",
    "\n",
    "dinner_features = vectorizer.fit(dinner_test + dinner_train)\n",
    "dinner_train = vectorizer.transform(dinner_train).toarray().flatten()\n",
    "dinner_test = vectorizer.transform(dinner_test).toarray().flatten()\n"
   ]
  },
  {
   "cell_type": "code",
   "execution_count": 142,
   "metadata": {},
   "outputs": [],
   "source": [
    "train['조식메뉴'] = pd.DataFrame(breakfast_train)\n",
    "train['중식메뉴'] = pd.DataFrame(lunch_train)\n",
    "train['석식메뉴'] = pd.DataFrame(dinner_train)\n",
    "\n",
    "test['조식메뉴'] = pd.DataFrame(breakfast_test)\n",
    "test['중식메뉴'] = pd.DataFrame(lunch_test)\n",
    "test['석식메뉴'] = pd.DataFrame(dinner_test)\n"
   ]
  },
  {
   "cell_type": "code",
   "execution_count": 143,
   "metadata": {},
   "outputs": [],
   "source": [
    "y = train['중식계']\n",
    "x = train.drop('중식계', axis=1)"
   ]
  },
  {
   "cell_type": "code",
   "execution_count": 145,
   "metadata": {},
   "outputs": [],
   "source": [
    "from sklearn.ensemble import RandomForestRegressor\n",
    "\n",
    "model = RandomForestRegressor(random_state=1)\n",
    "model.fit(x, y)\n",
    "res = model.predict(test)\n",
    "submit = pd.read_csv('sample_submit.csv')\n",
    "submit['중식계'] = res\n",
    "submit.to_csv('submit.csv', index=False)"
   ]
  }
 ],
 "metadata": {
  "interpreter": {
   "hash": "3b56a72e9acabfb7e93d1aa640bab3f729f4fa7900e427b4a015597563d3c661"
  },
  "kernelspec": {
   "display_name": "Python 3.9.13 64-bit ('base')",
   "language": "python",
   "name": "python3"
  },
  "language_info": {
   "codemirror_mode": {
    "name": "ipython",
    "version": 3
   },
   "file_extension": ".py",
   "mimetype": "text/x-python",
   "name": "python",
   "nbconvert_exporter": "python",
   "pygments_lexer": "ipython3",
   "version": "3.9.13"
  },
  "orig_nbformat": 4
 },
 "nbformat": 4,
 "nbformat_minor": 2
}
