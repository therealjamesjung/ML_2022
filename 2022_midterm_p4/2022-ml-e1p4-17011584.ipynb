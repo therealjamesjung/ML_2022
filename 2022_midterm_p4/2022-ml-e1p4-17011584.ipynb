{
 "cells": [
  {
   "cell_type": "code",
   "execution_count": 1,
   "id": "b9bb48db",
   "metadata": {
    "_cell_guid": "b1076dfc-b9ad-4769-8c92-a6c4dae69d19",
    "_uuid": "8f2839f25d086af736a60e9eeb907d3b93b6e0e5",
    "execution": {
     "iopub.execute_input": "2022-04-18T11:31:47.974311Z",
     "iopub.status.busy": "2022-04-18T11:31:47.973393Z",
     "iopub.status.idle": "2022-04-18T11:31:51.558229Z",
     "shell.execute_reply": "2022-04-18T11:31:51.557409Z"
    },
    "papermill": {
     "duration": 3.595412,
     "end_time": "2022-04-18T11:31:51.560851",
     "exception": false,
     "start_time": "2022-04-18T11:31:47.965439",
     "status": "completed"
    },
    "tags": []
   },
   "outputs": [],
   "source": [
    "import pandas as pd\n",
    "import numpy as np\n",
    "import pandas_profiling\n",
    "\n",
    "from sklearn.neighbors import KNeighborsClassifier, KNeighborsRegressor\n",
    "from sklearn.linear_model import LinearRegression, LogisticRegression\n",
    "from sklearn.discriminant_analysis import LinearDiscriminantAnalysis, QuadraticDiscriminantAnalysis\n",
    "from sklearn.tree import DecisionTreeClassifier, DecisionTreeRegressor\n",
    "from sklearn.ensemble import RandomForestClassifier, RandomForestRegressor\n",
    "\n",
    "from sklearn.metrics import accuracy_score, mean_absolute_error\n",
    "from sklearn.preprocessing import LabelEncoder, StandardScaler, MinMaxScaler\n",
    "from sklearn.model_selection import train_test_split\n",
    "\n",
    "import random\n",
    "import os\n",
    "seed = 42\n",
    "random.seed(seed)\n",
    "np.random.seed(seed)\n",
    "os.environ[\"PYTHONHASHSEED\"] = str(seed)"
   ]
  },
  {
   "cell_type": "code",
   "execution_count": 2,
   "id": "e965fc63",
   "metadata": {
    "execution": {
     "iopub.execute_input": "2022-04-18T11:31:51.574411Z",
     "iopub.status.busy": "2022-04-18T11:31:51.573617Z",
     "iopub.status.idle": "2022-04-18T11:31:51.579688Z",
     "shell.execute_reply": "2022-04-18T11:31:51.579171Z"
    },
    "papermill": {
     "duration": 0.014709,
     "end_time": "2022-04-18T11:31:51.581489",
     "exception": false,
     "start_time": "2022-04-18T11:31:51.566780",
     "status": "completed"
    },
    "tags": []
   },
   "outputs": [],
   "source": [
    "def _regression(x, y, result:list):\n",
    "    x_train, x_test, y_train, y_test = train_test_split(x, y, random_state=1)\n",
    "    \n",
    "    for model in [KNeighborsRegressor(), KNeighborsRegressor(weights='distance'), LinearRegression(), DecisionTreeRegressor(), RandomForestRegressor()]:\n",
    "        model.fit(x_train, y_train)\n",
    "        res = model.predict(x_test)\n",
    "        result.append({'model': str(model), 'score': mean_absolute_error(res, y_test)})"
   ]
  },
  {
   "cell_type": "code",
   "execution_count": 3,
   "id": "c1b5d746",
   "metadata": {
    "execution": {
     "iopub.execute_input": "2022-04-18T11:31:51.593399Z",
     "iopub.status.busy": "2022-04-18T11:31:51.592942Z",
     "iopub.status.idle": "2022-04-18T11:31:51.757657Z",
     "shell.execute_reply": "2022-04-18T11:31:51.756410Z"
    },
    "papermill": {
     "duration": 0.173497,
     "end_time": "2022-04-18T11:31:51.760220",
     "exception": false,
     "start_time": "2022-04-18T11:31:51.586723",
     "status": "completed"
    },
    "tags": []
   },
   "outputs": [],
   "source": [
    "data = pd.read_csv('../input/2022-ml-midterm-p4/train.csv')\n",
    "test = pd.read_csv('../input/2022-ml-midterm-p4/test.csv')\n",
    "\n",
    "le = LabelEncoder()\n",
    "models = data.model.append(test.model).drop_duplicates()\n",
    "le.fit(models)\n",
    "\n",
    "data['model'] = le.transform(data['model'])\n",
    "test['model'] = le.transform(test['model'])\n",
    "\n",
    "x = data.drop(['ID', 'price'], axis=1)\n",
    "y = data['price']\n",
    "test = test.drop('ID', axis=1)\n",
    "\n",
    "sc = StandardScaler()\n",
    "x = sc.fit_transform(x, y)\n",
    "test = sc.transform(test)"
   ]
  },
  {
   "cell_type": "code",
   "execution_count": 4,
   "id": "11d038cf",
   "metadata": {
    "execution": {
     "iopub.execute_input": "2022-04-18T11:31:51.771955Z",
     "iopub.status.busy": "2022-04-18T11:31:51.771647Z",
     "iopub.status.idle": "2022-04-18T11:32:00.361750Z",
     "shell.execute_reply": "2022-04-18T11:32:00.360500Z"
    },
    "papermill": {
     "duration": 8.598763,
     "end_time": "2022-04-18T11:32:00.364076",
     "exception": false,
     "start_time": "2022-04-18T11:31:51.765313",
     "status": "completed"
    },
    "tags": []
   },
   "outputs": [
    {
     "name": "stdout",
     "output_type": "stream",
     "text": [
      "                                     model        score\n",
      "0                    KNeighborsRegressor()  1422.863935\n",
      "1  KNeighborsRegressor(weights='distance')  1373.082817\n",
      "2                       LinearRegression()  3416.653967\n",
      "3                  DecisionTreeRegressor()  1531.536589\n",
      "4                  RandomForestRegressor()  1210.256632\n"
     ]
    }
   ],
   "source": [
    "result = []\n",
    "_regression(x, y, result)\n",
    "print(pd.DataFrame(result))"
   ]
  },
  {
   "cell_type": "code",
   "execution_count": 5,
   "id": "e09d7602",
   "metadata": {
    "execution": {
     "iopub.execute_input": "2022-04-18T11:32:00.377071Z",
     "iopub.status.busy": "2022-04-18T11:32:00.376774Z",
     "iopub.status.idle": "2022-04-18T11:32:02.139779Z",
     "shell.execute_reply": "2022-04-18T11:32:02.138623Z"
    },
    "papermill": {
     "duration": 1.772527,
     "end_time": "2022-04-18T11:32:02.142654",
     "exception": false,
     "start_time": "2022-04-18T11:32:00.370127",
     "status": "completed"
    },
    "tags": []
   },
   "outputs": [
    {
     "name": "stdout",
     "output_type": "stream",
     "text": [
      "          ID  price\n",
      "0          0      1\n",
      "1          1      1\n",
      "2          2      1\n",
      "3          3      1\n",
      "4          4      1\n",
      "...      ...    ...\n",
      "16826  16826      1\n",
      "16827  16827      1\n",
      "16828  16828      1\n",
      "16829  16829      1\n",
      "16830  16830      1\n",
      "\n",
      "[16831 rows x 2 columns]\n"
     ]
    }
   ],
   "source": [
    "submit = pd.read_csv('../input/2022-ml-midterm-p4/sample.csv')\n",
    "print(submit)\n",
    "model = KNeighborsRegressor(n_neighbors=7, weights='distance')\n",
    "model.fit(x, y)\n",
    "res = model.predict(test)\n",
    "submit['price'] = res\n",
    "submit.to_csv('submission.csv', index=False)"
   ]
  }
 ],
 "metadata": {
  "kernelspec": {
   "display_name": "Python 3",
   "language": "python",
   "name": "python3"
  },
  "language_info": {
   "codemirror_mode": {
    "name": "ipython",
    "version": 3
   },
   "file_extension": ".py",
   "mimetype": "text/x-python",
   "name": "python",
   "nbconvert_exporter": "python",
   "pygments_lexer": "ipython3",
   "version": "3.7.12"
  },
  "papermill": {
   "default_parameters": {},
   "duration": 24.751996,
   "end_time": "2022-04-18T11:32:03.272826",
   "environment_variables": {},
   "exception": null,
   "input_path": "__notebook__.ipynb",
   "output_path": "__notebook__.ipynb",
   "parameters": {},
   "start_time": "2022-04-18T11:31:38.520830",
   "version": "2.3.4"
  }
 },
 "nbformat": 4,
 "nbformat_minor": 5
}
