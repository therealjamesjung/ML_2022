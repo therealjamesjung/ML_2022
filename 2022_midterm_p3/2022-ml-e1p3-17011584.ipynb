{
 "cells": [
  {
   "cell_type": "code",
   "execution_count": 1,
   "id": "1f91065e",
   "metadata": {
    "_cell_guid": "b1076dfc-b9ad-4769-8c92-a6c4dae69d19",
    "_uuid": "8f2839f25d086af736a60e9eeb907d3b93b6e0e5",
    "execution": {
     "iopub.execute_input": "2022-04-18T12:04:09.883452Z",
     "iopub.status.busy": "2022-04-18T12:04:09.883156Z",
     "iopub.status.idle": "2022-04-18T12:04:11.146172Z",
     "shell.execute_reply": "2022-04-18T12:04:11.145338Z"
    },
    "papermill": {
     "duration": 1.273306,
     "end_time": "2022-04-18T12:04:11.148615",
     "exception": false,
     "start_time": "2022-04-18T12:04:09.875309",
     "status": "completed"
    },
    "tags": []
   },
   "outputs": [],
   "source": [
    "# Import pandas, numpy\n",
    "import pandas as pd\n",
    "import numpy as np\n",
    "\n",
    "# 회귀 문제를 위한 모델 import\n",
    "from sklearn.neighbors import KNeighborsRegressor\n",
    "from sklearn.linear_model import LinearRegression\n",
    "from sklearn.tree import DecisionTreeRegressor\n",
    "from sklearn.ensemble import RandomForestRegressor\n",
    "\n",
    "# 분류모델 평가를 위한 accuracy_score import\n",
    "from sklearn.metrics import mean_absolute_error\n",
    "# 분류모델 평가를 위한 train/test set 분리를 위한 train_test_split import\n",
    "from sklearn.model_selection import train_test_split\n",
    "# 정규화를 위한 StandardScaler import\n",
    "from sklearn.preprocessing import StandardScaler\n",
    "\n",
    "# Seed 고정\n",
    "import random\n",
    "import os\n",
    "seed = 42\n",
    "random.seed(seed)\n",
    "np.random.seed(seed)\n",
    "os.environ[\"PYTHONHASHSEED\"] = str(seed)"
   ]
  },
  {
   "cell_type": "code",
   "execution_count": 2,
   "id": "44558eb9",
   "metadata": {
    "execution": {
     "iopub.execute_input": "2022-04-18T12:04:11.168456Z",
     "iopub.status.busy": "2022-04-18T12:04:11.168198Z",
     "iopub.status.idle": "2022-04-18T12:04:11.174481Z",
     "shell.execute_reply": "2022-04-18T12:04:11.173806Z"
    },
    "papermill": {
     "duration": 0.018368,
     "end_time": "2022-04-18T12:04:11.176342",
     "exception": false,
     "start_time": "2022-04-18T12:04:11.157974",
     "status": "completed"
    },
    "tags": []
   },
   "outputs": [],
   "source": [
    "# 회귀 모델 평가를 위해 default값을 넣은 회귀 모델을 각각 학습\n",
    "# train 과 test으로 분리한 데이터로 각 회귀모델별 mean_absolute_error 계산 후 result 배열에 넣기\n",
    "def _regression(x, y, result:list):\n",
    "    x_train, x_test, y_train, y_test = train_test_split(x, y, test_size=0.2, random_state=1)\n",
    "    \n",
    "    for model in [KNeighborsRegressor(), KNeighborsRegressor(weights='distance'), LinearRegression(), DecisionTreeRegressor(), RandomForestRegressor()]:\n",
    "        model.fit(x_train, y_train)\n",
    "        res = model.predict(x_test)\n",
    "        result.append({'model': str(model), 'score': mean_absolute_error(res, y_test)})"
   ]
  },
  {
   "cell_type": "code",
   "execution_count": 3,
   "id": "ff204bb6",
   "metadata": {
    "execution": {
     "iopub.execute_input": "2022-04-18T12:04:11.189393Z",
     "iopub.status.busy": "2022-04-18T12:04:11.188974Z",
     "iopub.status.idle": "2022-04-18T12:04:11.228483Z",
     "shell.execute_reply": "2022-04-18T12:04:11.227954Z"
    },
    "papermill": {
     "duration": 0.047862,
     "end_time": "2022-04-18T12:04:11.230173",
     "exception": false,
     "start_time": "2022-04-18T12:04:11.182311",
     "status": "completed"
    },
    "tags": []
   },
   "outputs": [],
   "source": [
    "# 데이터 불러오기 밑 index열 제거\n",
    "data = pd.read_csv('../input/2022-ml-midterm-p3/train.csv').drop('index', axis=1)\n",
    "test = pd.read_csv('../input/2022-ml-midterm-p3/test.csv').drop('index', axis=1)\n",
    "\n",
    "# 라벨 분리\n",
    "x = data.drop('price', axis=1)\n",
    "y = data['price']\n",
    "\n",
    "# 데이터 정규화\n",
    "sc = StandardScaler()\n",
    "x = sc.fit_transform(x, y)\n",
    "test = sc.transform(test)"
   ]
  },
  {
   "cell_type": "code",
   "execution_count": 4,
   "id": "71ef5e0b",
   "metadata": {
    "execution": {
     "iopub.execute_input": "2022-04-18T12:04:11.244427Z",
     "iopub.status.busy": "2022-04-18T12:04:11.243925Z",
     "iopub.status.idle": "2022-04-18T12:04:11.607016Z",
     "shell.execute_reply": "2022-04-18T12:04:11.606341Z"
    },
    "papermill": {
     "duration": 0.373192,
     "end_time": "2022-04-18T12:04:11.608812",
     "exception": false,
     "start_time": "2022-04-18T12:04:11.235620",
     "status": "completed"
    },
    "tags": []
   },
   "outputs": [
    {
     "name": "stdout",
     "output_type": "stream",
     "text": [
      "                                     model     score\n",
      "0                    KNeighborsRegressor()  3.087654\n",
      "1  KNeighborsRegressor(weights='distance')  2.869685\n",
      "2                       LinearRegression()  3.514998\n",
      "3                  DecisionTreeRegressor()  3.232099\n",
      "4                  RandomForestRegressor()  2.457580\n"
     ]
    }
   ],
   "source": [
    "# 학습진행 후 결과 확인\n",
    "result = []\n",
    "_regression(x, y, result)\n",
    "print(pd.DataFrame(result))"
   ]
  },
  {
   "cell_type": "code",
   "execution_count": 5,
   "id": "614db91a",
   "metadata": {
    "execution": {
     "iopub.execute_input": "2022-04-18T12:04:11.626184Z",
     "iopub.status.busy": "2022-04-18T12:04:11.625787Z",
     "iopub.status.idle": "2022-04-18T12:04:11.904656Z",
     "shell.execute_reply": "2022-04-18T12:04:11.904126Z"
    },
    "papermill": {
     "duration": 0.288804,
     "end_time": "2022-04-18T12:04:11.906480",
     "exception": false,
     "start_time": "2022-04-18T12:04:11.617676",
     "status": "completed"
    },
    "tags": []
   },
   "outputs": [],
   "source": [
    "# 최적 모델 학습 후 결과 도출\n",
    "submit = pd.read_csv('../input/2022-ml-midterm-p3/submit.csv')\n",
    "model = RandomForestRegressor()\n",
    "model.fit(x, y)\n",
    "res = model.predict(test)\n",
    "submit['price'] = res\n",
    "submit.to_csv('submission.csv', index=False)"
   ]
  },
  {
   "cell_type": "markdown",
   "id": "e84e30a5",
   "metadata": {
    "papermill": {
     "duration": 0.005766,
     "end_time": "2022-04-18T12:04:11.918462",
     "exception": false,
     "start_time": "2022-04-18T12:04:11.912696",
     "status": "completed"
    },
    "tags": []
   },
   "source": [
    "베스트모델 : RandomForestRegressor - 2.22447\n",
    "\n",
    "비교한 모델: KNN Classifier, n_neighbors=7, weights=distance - 2.7788\n",
    "\n",
    "각 train/test로 분리해서 모델 성능 비교결과, RandomForest가 점수가 가장 높고, KNN의 점수가 다음으로 높아서 RandomForest가 베스트 모델일 것으로 추론했다."
   ]
  }
 ],
 "metadata": {
  "kernelspec": {
   "display_name": "Python 3",
   "language": "python",
   "name": "python3"
  },
  "language_info": {
   "codemirror_mode": {
    "name": "ipython",
    "version": 3
   },
   "file_extension": ".py",
   "mimetype": "text/x-python",
   "name": "python",
   "nbconvert_exporter": "python",
   "pygments_lexer": "ipython3",
   "version": "3.7.12"
  },
  "papermill": {
   "default_parameters": {},
   "duration": 13.297094,
   "end_time": "2022-04-18T12:04:12.644025",
   "environment_variables": {},
   "exception": null,
   "input_path": "__notebook__.ipynb",
   "output_path": "__notebook__.ipynb",
   "parameters": {},
   "start_time": "2022-04-18T12:03:59.346931",
   "version": "2.3.4"
  }
 },
 "nbformat": 4,
 "nbformat_minor": 5
}
