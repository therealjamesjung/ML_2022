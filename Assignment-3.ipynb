{
 "cells": [
  {
   "cell_type": "code",
   "execution_count": 111,
   "metadata": {},
   "outputs": [],
   "source": [
    "# Import necessary libraries/packages\n",
    "import pandas as pd\n",
    "import numpy as np\n",
    "\n",
    "from sklearn.neighbors import KNeighborsClassifier\n",
    "from sklearn.preprocessing import LabelEncoder, StandardScaler\n",
    "from sklearn.model_selection import train_test_split\n",
    "from sklearn.metrics import accuracy_score\n",
    "\n",
    "import random\n",
    "import os\n",
    "seed = 42\n",
    "random.seed(seed)\n",
    "np.random.seed(seed)\n",
    "os.environ[\"PYTHONHASHSEED\"] = str(seed)"
   ]
  },
  {
   "cell_type": "code",
   "execution_count": 112,
   "metadata": {},
   "outputs": [],
   "source": [
    "# Read data from csv file\n",
    "data = pd.read_csv('train.csv')\n",
    "test = pd.read_csv('test.csv')"
   ]
  },
  {
   "cell_type": "code",
   "execution_count": 113,
   "metadata": {},
   "outputs": [],
   "source": [
    "le = LabelEncoder()\n",
    "sc = StandardScaler()"
   ]
  },
  {
   "cell_type": "code",
   "execution_count": 114,
   "metadata": {},
   "outputs": [],
   "source": [
    "# Preprocess data\n",
    "x = data.drop('label', axis=1)\n",
    "y = data['label'].values\n",
    "\n",
    "sc.fit(x)\n",
    "\n",
    "x_train, x_test, y_train, y_test = train_test_split(x,y, test_size=0.3, random_state=1, stratify=y)\n",
    "\n",
    "x_train_std, x_test_std = sc.transform(x_train), sc.transform(x_test)"
   ]
  },
  {
   "cell_type": "code",
   "execution_count": 115,
   "metadata": {},
   "outputs": [],
   "source": [
    "def _train(n, train_set, test_set, train_ans, test_ans):\n",
    "    knn = KNeighborsClassifier(n_neighbors=n, p=2)\n",
    "    knn.fit(train_set, train_ans)\n",
    "    train_pred = knn.predict(train_set)\n",
    "    test_pred = knn.predict(test_set)\n",
    "    \n",
    "    print('Current N: {} '.format(n), end='')\n",
    "    print('Train : {} '.format(accuracy_score(train_ans, train_pred)), end='')\n",
    "    print('Test : {}'.format(accuracy_score(test_ans, test_pred)))\n"
   ]
  },
  {
   "cell_type": "code",
   "execution_count": 116,
   "metadata": {},
   "outputs": [
    {
     "name": "stdout",
     "output_type": "stream",
     "text": [
      "Current N: 2 Train : 0.9878787878787879 Test : 0.9676767676767677\n",
      "Current N: 3 Train : 0.9939393939393939 Test : 0.9777777777777777\n",
      "Current N: 4 Train : 0.9861471861471861 Test : 0.9777777777777777\n",
      "Current N: 5 Train : 0.9896103896103896 Test : 0.9777777777777777\n",
      "Current N: 6 Train : 0.9800865800865801 Test : 0.9717171717171718\n",
      "Current N: 7 Train : 0.9844155844155844 Test : 0.9737373737373738\n",
      "Current N: 8 Train : 0.9783549783549783 Test : 0.9656565656565657\n",
      "Current N: 9 Train : 0.9818181818181818 Test : 0.9696969696969697\n",
      "Current N: 10 Train : 0.9757575757575757 Test : 0.9676767676767677\n",
      "Current N: 11 Train : 0.9800865800865801 Test : 0.9696969696969697\n",
      "Current N: 12 Train : 0.9766233766233766 Test : 0.9696969696969697\n",
      "Current N: 13 Train : 0.9774891774891775 Test : 0.9717171717171718\n",
      "Current N: 14 Train : 0.9722943722943723 Test : 0.9595959595959596\n",
      "Current N: 15 Train : 0.9748917748917749 Test : 0.9696969696969697\n",
      "Current N: 16 Train : 0.9722943722943723 Test : 0.9575757575757575\n",
      "Current N: 17 Train : 0.9731601731601731 Test : 0.9616161616161616\n",
      "Current N: 18 Train : 0.9696969696969697 Test : 0.9535353535353536\n",
      "Current N: 19 Train : 0.9705627705627705 Test : 0.9595959595959596\n",
      "Current N: 20 Train : 0.9653679653679653 Test : 0.9575757575757575\n"
     ]
    }
   ],
   "source": [
    "for i in range (2, 21):\n",
    "    _train(i, x_train, x_test, y_train, y_test)\n"
   ]
  },
  {
   "cell_type": "code",
   "execution_count": 117,
   "metadata": {},
   "outputs": [
    {
     "name": "stdout",
     "output_type": "stream",
     "text": [
      "Current N: 2 Train : 0.9887445887445887 Test : 0.9575757575757575\n",
      "Current N: 3 Train : 0.9930735930735931 Test : 0.9717171717171718\n",
      "Current N: 4 Train : 0.9835497835497835 Test : 0.9555555555555556\n",
      "Current N: 5 Train : 0.9852813852813853 Test : 0.9616161616161616\n",
      "Current N: 6 Train : 0.9818181818181818 Test : 0.9575757575757575\n",
      "Current N: 7 Train : 0.9818181818181818 Test : 0.9555555555555556\n",
      "Current N: 8 Train : 0.9774891774891775 Test : 0.9474747474747475\n",
      "Current N: 9 Train : 0.9748917748917749 Test : 0.9454545454545454\n",
      "Current N: 10 Train : 0.9688311688311688 Test : 0.9454545454545454\n",
      "Current N: 11 Train : 0.9679653679653679 Test : 0.9434343434343434\n",
      "Current N: 12 Train : 0.9662337662337662 Test : 0.9373737373737374\n",
      "Current N: 13 Train : 0.9670995670995671 Test : 0.9373737373737374\n",
      "Current N: 14 Train : 0.9601731601731601 Test : 0.9353535353535354\n",
      "Current N: 15 Train : 0.9584415584415584 Test : 0.9333333333333333\n",
      "Current N: 16 Train : 0.9549783549783549 Test : 0.9272727272727272\n",
      "Current N: 17 Train : 0.9506493506493506 Test : 0.9212121212121213\n",
      "Current N: 18 Train : 0.9506493506493506 Test : 0.9232323232323232\n",
      "Current N: 19 Train : 0.9532467532467532 Test : 0.9212121212121213\n",
      "Current N: 20 Train : 0.9445887445887445 Test : 0.9171717171717172\n"
     ]
    }
   ],
   "source": [
    "for i in range (2, 21):\n",
    "    _train(i, x_train_std, x_test_std, y_train, y_test)\n"
   ]
  },
  {
   "cell_type": "code",
   "execution_count": 118,
   "metadata": {},
   "outputs": [],
   "source": [
    "knn = KNeighborsClassifier(n_neighbors=4, p=2)\n",
    "knn.fit(x_train, y_train)\n",
    "res = knn.predict(test)\n",
    "res = pd.DataFrame(data=res, columns=['label'])\n",
    "res.to_csv('submit.csv', index_label='id')"
   ]
  }
 ],
 "metadata": {
  "interpreter": {
   "hash": "5edc071939331937afb628cd02d1e83bf0089e07a94a421ede6d1eb56008d9f7"
  },
  "kernelspec": {
   "display_name": "Python 3.9.7 64-bit ('shims')",
   "language": "python",
   "name": "python3"
  },
  "language_info": {
   "codemirror_mode": {
    "name": "ipython",
    "version": 3
   },
   "file_extension": ".py",
   "mimetype": "text/x-python",
   "name": "python",
   "nbconvert_exporter": "python",
   "pygments_lexer": "ipython3",
   "version": "3.9.7"
  },
  "orig_nbformat": 4
 },
 "nbformat": 4,
 "nbformat_minor": 2
}
