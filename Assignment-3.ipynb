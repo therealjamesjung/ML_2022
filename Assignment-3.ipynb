{
 "cells": [
  {
   "cell_type": "code",
   "execution_count": 1,
   "metadata": {},
   "outputs": [],
   "source": [
    "# Import necessary libraries/packages\n",
    "import pandas as pd\n",
    "import numpy as np\n",
    "\n",
    "from sklearn.neighbors import KNeighborsClassifier\n",
    "from sklearn.preprocessing import LabelEncoder, StandardScaler\n",
    "from sklearn.model_selection import train_test_split\n",
    "from sklearn.metrics import accuracy_score\n",
    "\n",
    "# Fix random seed\n",
    "import random\n",
    "import os\n",
    "seed = 42\n",
    "random.seed(seed)\n",
    "np.random.seed(seed)\n",
    "os.environ[\"PYTHONHASHSEED\"] = str(seed)"
   ]
  },
  {
   "cell_type": "code",
   "execution_count": 2,
   "metadata": {},
   "outputs": [],
   "source": [
    "# Read data from csv file\n",
    "data = pd.read_csv('train.csv')\n",
    "test = pd.read_csv('test.csv')"
   ]
  },
  {
   "cell_type": "code",
   "execution_count": 3,
   "metadata": {},
   "outputs": [],
   "source": [
    "# le = LabelEncoder()\n",
    "sc = StandardScaler()"
   ]
  },
  {
   "cell_type": "code",
   "execution_count": 18,
   "metadata": {},
   "outputs": [],
   "source": [
    "# Preprocess data\n",
    "x = data.drop('label', axis=1)\n",
    "y = data['label'].values"
   ]
  },
  {
   "cell_type": "code",
   "execution_count": 5,
   "metadata": {},
   "outputs": [],
   "source": [
    "def _predict(n, train_set, test_set, train_ans, test_ans, size, result:list, mode):\n",
    "    knn = KNeighborsClassifier(n_neighbors=n, p=2)\n",
    "    knn.fit(train_set, train_ans)\n",
    "    train_pred = knn.predict(train_set)\n",
    "    test_pred = knn.predict(test_set)\n",
    "    \n",
    "    current = {\n",
    "        'n': n,\n",
    "        'test size': size,\n",
    "        'mode': mode,\n",
    "        'Train': accuracy_score(train_ans, train_pred),\n",
    "        'Test': accuracy_score(test_ans, test_pred)\n",
    "        }\n",
    "    result.append(current)"
   ]
  },
  {
   "cell_type": "code",
   "execution_count": 6,
   "metadata": {},
   "outputs": [],
   "source": [
    "\n",
    "def _train(size, result:list):\n",
    "    x_train, x_test, y_train, y_test = train_test_split(x,y, test_size=size, random_state=1, stratify=y)\n",
    "    sc.fit(x)\n",
    "    x_train_std, x_test_std = sc.transform(x_train), sc.transform(x_test)\n",
    "    \n",
    "    print('train start')\n",
    "    for i in range (2, 21):\n",
    "        _predict(i, x_train, x_test, y_train, y_test, size, result, 'train')\n",
    "    print('std train start')\n",
    "    for i in range (2, 21):\n",
    "        _predict(i, x_train_std, x_test_std, y_train, y_test, size, result, 'std train')\n"
   ]
  },
  {
   "cell_type": "code",
   "execution_count": 8,
   "metadata": {},
   "outputs": [
    {
     "name": "stdout",
     "output_type": "stream",
     "text": [
      "train start\n",
      "std train start\n",
      "train start\n",
      "std train start\n",
      "train start\n",
      "std train start\n",
      "train start\n",
      "std train start\n",
      "train start\n",
      "std train start\n",
      "train start\n",
      "std train start\n",
      "train start\n",
      "std train start\n",
      "train start\n",
      "std train start\n",
      "train start\n",
      "std train start\n",
      "train start\n",
      "std train start\n"
     ]
    }
   ],
   "source": [
    "result = []\n",
    "for i in [0.5, 0.55, 0.6, 0.65, 0.7, 0.75, 0.8, 0.85, 0.9, 0.95]:\n",
    "    _train(i, result)"
   ]
  },
  {
   "cell_type": "code",
   "execution_count": 21,
   "metadata": {},
   "outputs": [
    {
     "data": {
      "text/html": [
       "<div>\n",
       "<style scoped>\n",
       "    .dataframe tbody tr th:only-of-type {\n",
       "        vertical-align: middle;\n",
       "    }\n",
       "\n",
       "    .dataframe tbody tr th {\n",
       "        vertical-align: top;\n",
       "    }\n",
       "\n",
       "    .dataframe thead th {\n",
       "        text-align: right;\n",
       "    }\n",
       "</style>\n",
       "<table border=\"1\" class=\"dataframe\">\n",
       "  <thead>\n",
       "    <tr style=\"text-align: right;\">\n",
       "      <th></th>\n",
       "      <th>n</th>\n",
       "      <th>test size</th>\n",
       "      <th>mode</th>\n",
       "      <th>Train</th>\n",
       "      <th>Test</th>\n",
       "    </tr>\n",
       "  </thead>\n",
       "  <tbody>\n",
       "    <tr>\n",
       "      <th>1</th>\n",
       "      <td>3</td>\n",
       "      <td>0.50</td>\n",
       "      <td>train</td>\n",
       "      <td>0.993939</td>\n",
       "      <td>0.973333</td>\n",
       "    </tr>\n",
       "    <tr>\n",
       "      <th>209</th>\n",
       "      <td>2</td>\n",
       "      <td>0.75</td>\n",
       "      <td>std train</td>\n",
       "      <td>0.992718</td>\n",
       "      <td>0.937803</td>\n",
       "    </tr>\n",
       "    <tr>\n",
       "      <th>171</th>\n",
       "      <td>2</td>\n",
       "      <td>0.70</td>\n",
       "      <td>std train</td>\n",
       "      <td>0.991919</td>\n",
       "      <td>0.938528</td>\n",
       "    </tr>\n",
       "    <tr>\n",
       "      <th>39</th>\n",
       "      <td>3</td>\n",
       "      <td>0.55</td>\n",
       "      <td>train</td>\n",
       "      <td>0.991914</td>\n",
       "      <td>0.971366</td>\n",
       "    </tr>\n",
       "    <tr>\n",
       "      <th>285</th>\n",
       "      <td>2</td>\n",
       "      <td>0.85</td>\n",
       "      <td>std train</td>\n",
       "      <td>0.991903</td>\n",
       "      <td>0.903065</td>\n",
       "    </tr>\n",
       "    <tr>\n",
       "      <th>...</th>\n",
       "      <td>...</td>\n",
       "      <td>...</td>\n",
       "      <td>...</td>\n",
       "      <td>...</td>\n",
       "      <td>...</td>\n",
       "    </tr>\n",
       "    <tr>\n",
       "      <th>357</th>\n",
       "      <td>17</td>\n",
       "      <td>0.95</td>\n",
       "      <td>train</td>\n",
       "      <td>0.390244</td>\n",
       "      <td>0.310587</td>\n",
       "    </tr>\n",
       "    <tr>\n",
       "      <th>379</th>\n",
       "      <td>20</td>\n",
       "      <td>0.95</td>\n",
       "      <td>std train</td>\n",
       "      <td>0.365854</td>\n",
       "      <td>0.366709</td>\n",
       "    </tr>\n",
       "    <tr>\n",
       "      <th>358</th>\n",
       "      <td>18</td>\n",
       "      <td>0.95</td>\n",
       "      <td>train</td>\n",
       "      <td>0.365854</td>\n",
       "      <td>0.286352</td>\n",
       "    </tr>\n",
       "    <tr>\n",
       "      <th>359</th>\n",
       "      <td>19</td>\n",
       "      <td>0.95</td>\n",
       "      <td>train</td>\n",
       "      <td>0.341463</td>\n",
       "      <td>0.272321</td>\n",
       "    </tr>\n",
       "    <tr>\n",
       "      <th>360</th>\n",
       "      <td>20</td>\n",
       "      <td>0.95</td>\n",
       "      <td>train</td>\n",
       "      <td>0.329268</td>\n",
       "      <td>0.258929</td>\n",
       "    </tr>\n",
       "  </tbody>\n",
       "</table>\n",
       "<p>380 rows × 5 columns</p>\n",
       "</div>"
      ],
      "text/plain": [
       "      n  test size       mode     Train      Test\n",
       "1     3       0.50      train  0.993939  0.973333\n",
       "209   2       0.75  std train  0.992718  0.937803\n",
       "171   2       0.70  std train  0.991919  0.938528\n",
       "39    3       0.55      train  0.991914  0.971366\n",
       "285   2       0.85  std train  0.991903  0.903065\n",
       "..   ..        ...        ...       ...       ...\n",
       "357  17       0.95      train  0.390244  0.310587\n",
       "379  20       0.95  std train  0.365854  0.366709\n",
       "358  18       0.95      train  0.365854  0.286352\n",
       "359  19       0.95      train  0.341463  0.272321\n",
       "360  20       0.95      train  0.329268  0.258929\n",
       "\n",
       "[380 rows x 5 columns]"
      ]
     },
     "execution_count": 21,
     "metadata": {},
     "output_type": "execute_result"
    }
   ],
   "source": [
    "pd.DataFrame(result).sort_values(by=['Train', 'Test'], ascending=False)"
   ]
  },
  {
   "cell_type": "code",
   "execution_count": 30,
   "metadata": {},
   "outputs": [],
   "source": [
    "# Get final model result\n",
    "\n",
    "x_train, x_test, y_train, y_test = train_test_split(x,y, test_size=0.75, random_state=1, stratify=y)\n",
    "sc.fit(x)\n",
    "x_train_std, x_test_std = sc.transform(x_train), sc.transform(x_test)\n",
    "\n",
    "knn = KNeighborsClassifier(n_neighbors=2, p=2)\n",
    "# knn.fit(x_train, y_train)\n",
    "knn.fit(x_train_std, y_train)\n",
    "# res = knn.predict(test)\n",
    "res = knn.predict(sc.transform(test))\n",
    "res = pd.DataFrame(data=res, columns=['label'])\n",
    "res.to_csv('submit.csv', index_label='id')"
   ]
  },
  {
   "cell_type": "code",
   "execution_count": null,
   "metadata": {},
   "outputs": [],
   "source": []
  }
 ],
 "metadata": {
  "interpreter": {
   "hash": "5edc071939331937afb628cd02d1e83bf0089e07a94a421ede6d1eb56008d9f7"
  },
  "kernelspec": {
   "display_name": "Python 3.9.7 64-bit ('shims')",
   "language": "python",
   "name": "python3"
  },
  "language_info": {
   "codemirror_mode": {
    "name": "ipython",
    "version": 3
   },
   "file_extension": ".py",
   "mimetype": "text/x-python",
   "name": "python",
   "nbconvert_exporter": "python",
   "pygments_lexer": "ipython3",
   "version": "3.9.7"
  },
  "orig_nbformat": 4
 },
 "nbformat": 4,
 "nbformat_minor": 2
}
