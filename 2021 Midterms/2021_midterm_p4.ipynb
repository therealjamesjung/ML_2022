{
 "cells": [
  {
   "cell_type": "code",
   "execution_count": 4,
   "metadata": {},
   "outputs": [],
   "source": [
    "import numpy as np\n",
    "import pandas as pd\n",
    "import pandas_profiling\n",
    "\n",
    "from sklearn.neighbors import KNeighborsClassifier, KNeighborsRegressor\n",
    "from sklearn.linear_model import LogisticRegression, LinearRegression\n",
    "from sklearn.discriminant_analysis import LinearDiscriminantAnalysis, QuadraticDiscriminantAnalysis\n",
    "from sklearn.tree import DecisionTreeClassifier, DecisionTreeRegressor\n",
    "from sklearn.ensemble import RandomForestClassifier, RandomForestRegressor\n",
    "\n",
    "from sklearn.model_selection import train_test_split\n",
    "from sklearn.metrics import accuracy_score, mean_absolute_error\n",
    "from sklearn.preprocessing import StandardScaler, MinMaxScaler, LabelEncoder"
   ]
  },
  {
   "cell_type": "code",
   "execution_count": 5,
   "metadata": {},
   "outputs": [],
   "source": [
    "import random\n",
    "import os\n",
    "seed = 42\n",
    "random.seed(seed)\n",
    "np.random.seed(seed)\n",
    "os.environ[\"PYTHONHASHSEED\"] = str(seed)"
   ]
  },
  {
   "cell_type": "code",
   "execution_count": 17,
   "metadata": {},
   "outputs": [],
   "source": [
    "def _regression(x, y, result:list):\n",
    "    x_train, x_test, y_train, y_test = train_test_split(x,y, test_size=0.2)\n",
    "    \n",
    "    knn = KNeighborsRegressor()\n",
    "    knn.fit(x_train, y_train)\n",
    "    res = knn.predict(x_test)\n",
    "    result.append({'method': 'KNN Regressor', 'score': mean_absolute_error(res, y_test)})\n",
    "    \n",
    "    lin = LinearRegression()\n",
    "    lin.fit(x_train, y_train)\n",
    "    res = lin.predict(x_test)\n",
    "    result.append({'method': 'Linear Regressor', 'score': mean_absolute_error(res, y_test)})\n",
    "    \n",
    "    dt = DecisionTreeRegressor()\n",
    "    dt.fit(x_train, y_train)\n",
    "    res = dt.predict(x_test)\n",
    "    result.append({'method': 'DT Regressor', 'score': mean_absolute_error(res, y_test)})\n",
    "    \n",
    "    rf = RandomForestRegressor()\n",
    "    rf.fit(x_train, y_train)\n",
    "    res = rf.predict(x_test)\n",
    "    result.append({'method': 'RF Regressor', 'score': mean_absolute_error(res, y_test)})\n"
   ]
  },
  {
   "cell_type": "code",
   "execution_count": 9,
   "metadata": {},
   "outputs": [],
   "source": [
    "x = pd.read_csv('train_update.csv').drop(['price', 'index'], axis=1)\n",
    "y = pd.read_csv('train_update.csv')['price']\n",
    "test = pd.read_csv('test_update.csv').drop(['index'], axis=1)"
   ]
  },
  {
   "cell_type": "code",
   "execution_count": 13,
   "metadata": {},
   "outputs": [],
   "source": [
    "sc = StandardScaler()\n",
    "x = sc.fit_transform(x, y)\n",
    "test = sc.transform(test)"
   ]
  },
  {
   "cell_type": "code",
   "execution_count": 69,
   "metadata": {},
   "outputs": [
    {
     "name": "stdout",
     "output_type": "stream",
     "text": [
      "(242, 14)\n",
      "(237, 14)\n"
     ]
    }
   ],
   "source": [
    "print(x.shape)\n",
    "y = y.drop(x[(x.restecg == 1) | (x.ca == '?') | (x.thal == '?')].index)\n",
    "x = x.drop(x[(x.restecg == 1) | (x.ca == '?') | (x.thal == '?')].index)\n",
    "print(x.shape)\n"
   ]
  },
  {
   "cell_type": "code",
   "execution_count": 18,
   "metadata": {},
   "outputs": [
    {
     "name": "stdout",
     "output_type": "stream",
     "text": [
      "             method     score\n",
      "0     KNN Regressor  3.287654\n",
      "1  Linear Regressor  3.316334\n",
      "2      DT Regressor  3.508642\n",
      "3      RF Regressor  2.428086\n"
     ]
    }
   ],
   "source": [
    "result = []\n",
    "_regression(x, y, result)\n",
    "print(pd.DataFrame(result))"
   ]
  },
  {
   "cell_type": "code",
   "execution_count": 21,
   "metadata": {},
   "outputs": [],
   "source": [
    "submit = pd.read_csv('sample_submit.csv')\n",
    "knn = RandomForestRegressor()\n",
    "knn.fit(x, y)\n",
    "res = pd.DataFrame(knn.predict(test), columns=['price'])\n",
    "submit.price = res\n",
    "submit.to_csv('submit.csv', index=None)"
   ]
  }
 ],
 "metadata": {
  "interpreter": {
   "hash": "be98ccaa56f3cdd5d2444cc133e3c6e14d93a3022c9b1e84eb49a3182cde92f4"
  },
  "kernelspec": {
   "display_name": "Python 3.9.7 64-bit ('base')",
   "language": "python",
   "name": "python3"
  },
  "language_info": {
   "codemirror_mode": {
    "name": "ipython",
    "version": 3
   },
   "file_extension": ".py",
   "mimetype": "text/x-python",
   "name": "python",
   "nbconvert_exporter": "python",
   "pygments_lexer": "ipython3",
   "version": "3.9.7"
  },
  "orig_nbformat": 4
 },
 "nbformat": 4,
 "nbformat_minor": 2
}
