{
 "cells": [
  {
   "cell_type": "code",
   "execution_count": 1,
   "metadata": {},
   "outputs": [],
   "source": [
    "import numpy as np\n",
    "import pandas as pd\n",
    "import pandas_profiling\n",
    "\n",
    "from sklearn.neighbors import KNeighborsClassifier, KNeighborsRegressor\n",
    "from sklearn.linear_model import LogisticRegression, LinearRegression\n",
    "from sklearn.discriminant_analysis import LinearDiscriminantAnalysis, QuadraticDiscriminantAnalysis\n",
    "from sklearn.tree import DecisionTreeClassifier, DecisionTreeRegressor\n",
    "from sklearn.ensemble import RandomForestClassifier, RandomForestRegressor\n",
    "\n",
    "from sklearn.model_selection import train_test_split\n",
    "from sklearn.metrics import accuracy_score, mean_absolute_error\n",
    "from sklearn.preprocessing import StandardScaler, MinMaxScaler, LabelEncoder"
   ]
  },
  {
   "cell_type": "code",
   "execution_count": 2,
   "metadata": {},
   "outputs": [],
   "source": [
    "import random\n",
    "import os\n",
    "seed = 42\n",
    "random.seed(seed)\n",
    "np.random.seed(seed)\n",
    "os.environ[\"PYTHONHASHSEED\"] = str(seed)"
   ]
  },
  {
   "cell_type": "code",
   "execution_count": 3,
   "metadata": {},
   "outputs": [],
   "source": [
    "def _classification(x, y, result:list):\n",
    "    x_train, x_test, y_train, y_test = train_test_split(x,y, test_size=0.2, random_state=1 ,stratify=y)\n",
    "    \n",
    "    knn = KNeighborsClassifier()\n",
    "    knn.fit(x_train, y_train)\n",
    "    res = knn.predict(x_test)\n",
    "    result.append({'method': 'KNN Classifier', 'score': accuracy_score(res, y_test)})\n",
    "    \n",
    "    lda = LinearDiscriminantAnalysis()\n",
    "    lda.fit(x_train, y_train)\n",
    "    res = lda.predict(x_test)\n",
    "    result.append({'method': 'LDA', 'score': accuracy_score(res, y_test)})\n",
    "    \n",
    "    qda = QuadraticDiscriminantAnalysis()\n",
    "    qda.fit(x_train, y_train)\n",
    "    res = qda.predict(x_test)\n",
    "    result.append({'method': 'QDA', 'score': accuracy_score(res, y_test)})\n",
    "    \n",
    "    log = LogisticRegression()\n",
    "    log.fit(x_train, y_train)\n",
    "    res = log.predict(x_test)\n",
    "    result.append({'method': 'Logisitic Regression Classifier', 'score': accuracy_score(res, y_test)})\n",
    "    \n",
    "    dt = DecisionTreeClassifier()\n",
    "    dt.fit(x_train, y_train)\n",
    "    res = dt.predict(x_test)\n",
    "    result.append({'method': 'DT Classifier', 'score': accuracy_score(res, y_test)})\n",
    "    \n",
    "    rf = RandomForestClassifier()\n",
    "    rf.fit(x_train, y_train)\n",
    "    res = rf.predict(x_test)\n",
    "    result.append({'method': 'RF Classifier', 'score': accuracy_score(res, y_test)})\n"
   ]
  },
  {
   "cell_type": "code",
   "execution_count": 65,
   "metadata": {},
   "outputs": [],
   "source": [
    "le = LabelEncoder()\n",
    "def _transform(x, columns):\n",
    "    for column in columns:\n",
    "        x[column] = le.fit_transform(x[column])\n",
    "        test[column] = le.transform(test[column])\n"
   ]
  },
  {
   "cell_type": "code",
   "execution_count": 22,
   "metadata": {},
   "outputs": [],
   "source": [
    "data = pd.read_csv('train.csv').drop('index', axis=1)\n",
    "test = pd.read_csv('test.csv').drop('index', axis=1)\n",
    "y = data['label']\n",
    "x = data.drop(['label'], axis=1)\n",
    "# test = test.drop(['Unnamed: 0', 'customerID'], axis=1)\n",
    "# print(x.shape)\n",
    "# y = y.drop(x[x.TotalCharges == ' '].index)\n",
    "# x = x.drop(x[x.TotalCharges == ' '].index)\n",
    "# print(x.shape)"
   ]
  },
  {
   "cell_type": "code",
   "execution_count": 20,
   "metadata": {},
   "outputs": [
    {
     "data": {
      "text/plain": [
       "0          0\n",
       "1          1\n",
       "2          2\n",
       "3          3\n",
       "4          4\n",
       "        ... \n",
       "1432    1792\n",
       "1433    1793\n",
       "1434    1794\n",
       "1435    1795\n",
       "1436    1796\n",
       "Name: index, Length: 1437, dtype: int64"
      ]
     },
     "execution_count": 20,
     "metadata": {},
     "output_type": "execute_result"
    }
   ],
   "source": [
    "data['index']"
   ]
  },
  {
   "cell_type": "code",
   "execution_count": 84,
   "metadata": {},
   "outputs": [],
   "source": [
    "columns = ['gender', 'Partner', 'Dependents', 'PhoneService', 'MultipleLines', 'InternetService', 'OnlineSecurity', 'OnlineBackup', 'DeviceProtection', 'TechSupport', 'StreamingTV', 'StreamingMovies', 'Contract', 'PaperlessBilling', 'PaymentMethod']\n",
    "_transform(x, columns)"
   ]
  },
  {
   "cell_type": "code",
   "execution_count": 78,
   "metadata": {},
   "outputs": [],
   "source": [
    "sc = StandardScaler()\n",
    "x = sc.fit_transform(x, y)\n",
    "test = sc.transform(test)"
   ]
  },
  {
   "cell_type": "code",
   "execution_count": 23,
   "metadata": {},
   "outputs": [
    {
     "name": "stderr",
     "output_type": "stream",
     "text": [
      "/Users/therealjamesjung/.pyenv/versions/anaconda3-2021.11/lib/python3.9/site-packages/sklearn/discriminant_analysis.py:808: UserWarning: Variables are collinear\n",
      "  warnings.warn(\"Variables are collinear\")\n",
      "/Users/therealjamesjung/.pyenv/versions/anaconda3-2021.11/lib/python3.9/site-packages/sklearn/linear_model/_logistic.py:763: ConvergenceWarning: lbfgs failed to converge (status=1):\n",
      "STOP: TOTAL NO. of ITERATIONS REACHED LIMIT.\n",
      "\n",
      "Increase the number of iterations (max_iter) or scale the data as shown in:\n",
      "    https://scikit-learn.org/stable/modules/preprocessing.html\n",
      "Please also refer to the documentation for alternative solver options:\n",
      "    https://scikit-learn.org/stable/modules/linear_model.html#logistic-regression\n",
      "  n_iter_i = _check_optimize_result(\n"
     ]
    },
    {
     "name": "stdout",
     "output_type": "stream",
     "text": [
      "                            method     score\n",
      "0                   KNN Classifier  0.979167\n",
      "1                              LDA  0.934028\n",
      "2                              QDA  0.829861\n",
      "3  Logisitic Regression Classifier  0.954861\n",
      "4                    DT Classifier  0.847222\n",
      "5                    RF Classifier  0.968750\n"
     ]
    }
   ],
   "source": [
    "result = []\n",
    "_classification(x, y, result)\n",
    "print(pd.DataFrame(result))"
   ]
  },
  {
   "cell_type": "code",
   "execution_count": 31,
   "metadata": {},
   "outputs": [],
   "source": [
    "submit = pd.read_csv('sample_submit.csv')\n",
    "lda = KNeighborsClassifier(n_neighbors=8, weights='distance')\n",
    "lda.fit(x, y)\n",
    "res = pd.DataFrame(lda.predict(test), columns=['label'])\n",
    "submit['label'] = res['label']\n",
    "submit.to_csv('submit.csv', index=None)"
   ]
  }
 ],
 "metadata": {
  "interpreter": {
   "hash": "be98ccaa56f3cdd5d2444cc133e3c6e14d93a3022c9b1e84eb49a3182cde92f4"
  },
  "kernelspec": {
   "display_name": "Python 3.9.7 64-bit ('base')",
   "language": "python",
   "name": "python3"
  },
  "language_info": {
   "codemirror_mode": {
    "name": "ipython",
    "version": 3
   },
   "file_extension": ".py",
   "mimetype": "text/x-python",
   "name": "python",
   "nbconvert_exporter": "python",
   "pygments_lexer": "ipython3",
   "version": "3.9.7"
  },
  "orig_nbformat": 4
 },
 "nbformat": 4,
 "nbformat_minor": 2
}
