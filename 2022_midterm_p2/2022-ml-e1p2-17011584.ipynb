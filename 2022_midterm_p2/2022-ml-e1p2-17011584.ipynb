{
 "cells": [
  {
   "cell_type": "code",
   "execution_count": 1,
   "id": "b8c24b30",
   "metadata": {
    "_cell_guid": "b1076dfc-b9ad-4769-8c92-a6c4dae69d19",
    "_uuid": "8f2839f25d086af736a60e9eeb907d3b93b6e0e5",
    "execution": {
     "iopub.execute_input": "2022-04-18T11:57:35.725703Z",
     "iopub.status.busy": "2022-04-18T11:57:35.725144Z",
     "iopub.status.idle": "2022-04-18T11:57:37.283007Z",
     "shell.execute_reply": "2022-04-18T11:57:37.281830Z"
    },
    "papermill": {
     "duration": 1.572034,
     "end_time": "2022-04-18T11:57:37.286040",
     "exception": false,
     "start_time": "2022-04-18T11:57:35.714006",
     "status": "completed"
    },
    "tags": []
   },
   "outputs": [],
   "source": [
    "# Import pandas, numpy\n",
    "import pandas as pd\n",
    "import numpy as np\n",
    "\n",
    "# 분류문제를 위한 모델 import\n",
    "from sklearn.neighbors import KNeighborsClassifier\n",
    "from sklearn.linear_model import LogisticRegression\n",
    "from sklearn.discriminant_analysis import LinearDiscriminantAnalysis\n",
    "from sklearn.tree import DecisionTreeClassifier\n",
    "from sklearn.ensemble import RandomForestClassifier\n",
    "\n",
    "# 분류모델 평가를 위한 accuracy_score import\n",
    "from sklearn.metrics import accuracy_score\n",
    "# 분류모델 평가를 위한 train/test set 분리를 위한 train_test_split import\n",
    "from sklearn.model_selection import train_test_split\n",
    "\n",
    "# Seed 고정\n",
    "import random\n",
    "import os\n",
    "seed = 42\n",
    "random.seed(seed)\n",
    "np.random.seed(seed)\n",
    "os.environ[\"PYTHONHASHSEED\"] = str(seed)"
   ]
  },
  {
   "cell_type": "code",
   "execution_count": 2,
   "id": "49c8c4a7",
   "metadata": {
    "execution": {
     "iopub.execute_input": "2022-04-18T11:57:37.304892Z",
     "iopub.status.busy": "2022-04-18T11:57:37.304175Z",
     "iopub.status.idle": "2022-04-18T11:57:37.312545Z",
     "shell.execute_reply": "2022-04-18T11:57:37.311084Z"
    },
    "papermill": {
     "duration": 0.020627,
     "end_time": "2022-04-18T11:57:37.315118",
     "exception": false,
     "start_time": "2022-04-18T11:57:37.294491",
     "status": "completed"
    },
    "tags": []
   },
   "outputs": [],
   "source": [
    "# 분류 모델 평가를 위해 default값을 넣은 분류모델을 각각 학습\n",
    "# train 과 test으로 분리한 데이터로 각 분류모델별 accuracy_score 계산 후 result 배열에 넣기\n",
    "def _classification(x, y, result:list):\n",
    "    x_train, x_test, y_train, y_test = train_test_split(x, y, test_size=0.2, random_state=1, stratify=y)\n",
    "    \n",
    "    for model in [KNeighborsClassifier(), KNeighborsClassifier(weights='distance'), LogisticRegression(solver='newton-cg'), LinearDiscriminantAnalysis(), DecisionTreeClassifier(), RandomForestClassifier()]:\n",
    "        model.fit(x_train, y_train)\n",
    "        res = model.predict(x_test)\n",
    "        result.append({'model': str(model), 'score': accuracy_score(res, y_test)})"
   ]
  },
  {
   "cell_type": "code",
   "execution_count": 3,
   "id": "29644608",
   "metadata": {
    "execution": {
     "iopub.execute_input": "2022-04-18T11:57:37.332511Z",
     "iopub.status.busy": "2022-04-18T11:57:37.332224Z",
     "iopub.status.idle": "2022-04-18T11:57:37.395768Z",
     "shell.execute_reply": "2022-04-18T11:57:37.394929Z"
    },
    "papermill": {
     "duration": 0.075225,
     "end_time": "2022-04-18T11:57:37.398141",
     "exception": false,
     "start_time": "2022-04-18T11:57:37.322916",
     "status": "completed"
    },
    "tags": []
   },
   "outputs": [],
   "source": [
    "# 데이터 불러오기 밑 index열 제거\n",
    "data = pd.read_csv('../input/2022-ml-midterm-p2/train.csv').drop('index', axis=1)\n",
    "test = pd.read_csv('../input/2022-ml-midterm-p2/test.csv').drop('index', axis=1)\n",
    "\n",
    "# 라벨 분리\n",
    "x = data.drop('label', axis=1)\n",
    "y = data['label']"
   ]
  },
  {
   "cell_type": "code",
   "execution_count": 4,
   "id": "abe1e9d9",
   "metadata": {
    "execution": {
     "iopub.execute_input": "2022-04-18T11:57:37.416316Z",
     "iopub.status.busy": "2022-04-18T11:57:37.415260Z",
     "iopub.status.idle": "2022-04-18T11:57:40.126520Z",
     "shell.execute_reply": "2022-04-18T11:57:40.125617Z"
    },
    "papermill": {
     "duration": 2.723654,
     "end_time": "2022-04-18T11:57:40.129569",
     "exception": false,
     "start_time": "2022-04-18T11:57:37.405915",
     "status": "completed"
    },
    "tags": []
   },
   "outputs": [
    {
     "name": "stdout",
     "output_type": "stream",
     "text": [
      "                                      model     score\n",
      "0                    KNeighborsClassifier()  0.979167\n",
      "1  KNeighborsClassifier(weights='distance')  0.986111\n",
      "2    LogisticRegression(solver='newton-cg')  0.951389\n",
      "3              LinearDiscriminantAnalysis()  0.934028\n",
      "4                  DecisionTreeClassifier()  0.854167\n",
      "5                  RandomForestClassifier()  0.965278\n"
     ]
    }
   ],
   "source": [
    "# 학습진행 후 결과 확인\n",
    "result = []\n",
    "_classification(x, y, result)\n",
    "print(pd.DataFrame(result))"
   ]
  },
  {
   "cell_type": "code",
   "execution_count": 5,
   "id": "ad898490",
   "metadata": {
    "execution": {
     "iopub.execute_input": "2022-04-18T11:57:40.155478Z",
     "iopub.status.busy": "2022-04-18T11:57:40.154555Z",
     "iopub.status.idle": "2022-04-18T11:57:40.255351Z",
     "shell.execute_reply": "2022-04-18T11:57:40.249590Z"
    },
    "papermill": {
     "duration": 0.118154,
     "end_time": "2022-04-18T11:57:40.259299",
     "exception": false,
     "start_time": "2022-04-18T11:57:40.141145",
     "status": "completed"
    },
    "tags": []
   },
   "outputs": [],
   "source": [
    "# 최적 모델 학습 후 결과 도출\n",
    "submit = pd.read_csv('../input/2022-ml-midterm-p2/submit.csv')\n",
    "model = KNeighborsClassifier(n_neighbors=7)\n",
    "model.fit(x, y)\n",
    "res = model.predict(test)\n",
    "submit['label'] = res\n",
    "submit.to_csv('submission.csv', index=False)"
   ]
  },
  {
   "cell_type": "markdown",
   "id": "dbfc360e",
   "metadata": {
    "papermill": {
     "duration": 0.027467,
     "end_time": "2022-04-18T11:57:40.307490",
     "exception": false,
     "start_time": "2022-04-18T11:57:40.280023",
     "status": "completed"
    },
    "tags": []
   },
   "source": [
    "베스트모델 : KNN Classifier, n_neighbors=7 - 0.98888\n",
    "\n",
    "비교한 모델: RandomForestClassifier - 0.97777\n",
    "\n",
    "정제가 된 손글씨데이터이여서 KNN모델이 꽤나 우수하게 작동한 것으로 판단됨."
   ]
  }
 ],
 "metadata": {
  "kernelspec": {
   "display_name": "Python 3",
   "language": "python",
   "name": "python3"
  },
  "language_info": {
   "codemirror_mode": {
    "name": "ipython",
    "version": 3
   },
   "file_extension": ".py",
   "mimetype": "text/x-python",
   "name": "python",
   "nbconvert_exporter": "python",
   "pygments_lexer": "ipython3",
   "version": "3.7.12"
  },
  "papermill": {
   "default_parameters": {},
   "duration": 16.549567,
   "end_time": "2022-04-18T11:57:41.341530",
   "environment_variables": {},
   "exception": null,
   "input_path": "__notebook__.ipynb",
   "output_path": "__notebook__.ipynb",
   "parameters": {},
   "start_time": "2022-04-18T11:57:24.791963",
   "version": "2.3.4"
  }
 },
 "nbformat": 4,
 "nbformat_minor": 5
}
