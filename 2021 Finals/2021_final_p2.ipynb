{
 "cells": [
  {
   "cell_type": "code",
   "execution_count": 28,
   "metadata": {},
   "outputs": [],
   "source": [
    "import pandas as pd\n",
    "import numpy as np"
   ]
  },
  {
   "cell_type": "code",
   "execution_count": 29,
   "metadata": {},
   "outputs": [],
   "source": [
    "train = pd.read_csv('train.csv')\n",
    "test = pd.read_csv('test.csv')\n",
    "\n",
    "train = train.drop(['id', 'year', 'month', 'day'], axis=1)\n",
    "test = test.drop(['id', 'year', 'month', 'day'], axis=1)"
   ]
  },
  {
   "cell_type": "code",
   "execution_count": 30,
   "metadata": {},
   "outputs": [],
   "source": [
    "for x in range (6, 12):\n",
    "    train['{}~{}'.format(x, x+1)] = train['{}~{}_ride'.format(x, x+1)] - train['{}~{}_takeoff'.format(x, x+1)]\n",
    "    test['{}~{}'.format(x, x+1)] = test['{}~{}_ride'.format(x, x+1)] - test['{}~{}_takeoff'.format(x, x+1)]\n",
    "    train = train.drop(['{}~{}_ride'.format(x, x+1), '{}~{}_takeoff'.format(x, x+1)], axis=1)\n",
    "    test = test.drop(['{}~{}_ride'.format(x, x+1), '{}~{}_takeoff'.format(x, x+1)], axis=1)"
   ]
  },
  {
   "cell_type": "code",
   "execution_count": 31,
   "metadata": {},
   "outputs": [],
   "source": [
    "y = train['18~20_ride'].astype('int64')\n",
    "x = train.drop('18~20_ride', axis=1)"
   ]
  },
  {
   "cell_type": "code",
   "execution_count": 32,
   "metadata": {},
   "outputs": [],
   "source": [
    "for col in x.columns:\n",
    "    x[col] = x[col].astype('int64')\n",
    "    test[col] = test[col].astype('int64')"
   ]
  },
  {
   "cell_type": "code",
   "execution_count": 35,
   "metadata": {},
   "outputs": [],
   "source": [
    "from sklearn.ensemble import RandomForestRegressor\n",
    "\n",
    "\n",
    "model = RandomForestRegressor(random_state=1)\n",
    "model.fit(x, y)\n",
    "res = model.predict(test)\n",
    "submit = pd.read_csv('sample_submit.csv')\n",
    "submit['18~20_ride'] = res\n",
    "submit.to_csv('submit.csv', index=False)"
   ]
  },
  {
   "cell_type": "code",
   "execution_count": null,
   "metadata": {},
   "outputs": [],
   "source": []
  }
 ],
 "metadata": {
  "interpreter": {
   "hash": "3b56a72e9acabfb7e93d1aa640bab3f729f4fa7900e427b4a015597563d3c661"
  },
  "kernelspec": {
   "display_name": "Python 3.9.13 64-bit ('base')",
   "language": "python",
   "name": "python3"
  },
  "language_info": {
   "codemirror_mode": {
    "name": "ipython",
    "version": 3
   },
   "file_extension": ".py",
   "mimetype": "text/x-python",
   "name": "python",
   "nbconvert_exporter": "python",
   "pygments_lexer": "ipython3",
   "version": "3.9.13"
  },
  "orig_nbformat": 4
 },
 "nbformat": 4,
 "nbformat_minor": 2
}
