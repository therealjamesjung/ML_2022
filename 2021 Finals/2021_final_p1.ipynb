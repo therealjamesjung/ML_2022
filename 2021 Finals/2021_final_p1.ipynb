{
 "cells": [
  {
   "cell_type": "code",
   "execution_count": 1,
   "metadata": {},
   "outputs": [],
   "source": [
    "import pandas as pd\n",
    "import numpy as np"
   ]
  },
  {
   "cell_type": "code",
   "execution_count": 2,
   "metadata": {},
   "outputs": [],
   "source": [
    "train = pd.read_csv('train.csv')\n",
    "test = pd.read_csv('test.csv')\n",
    "train = train.drop(['Unnamed: 0'], axis=1)\n",
    "test = test.drop(['Unnamed: 0'], axis=1)"
   ]
  },
  {
   "cell_type": "code",
   "execution_count": 3,
   "metadata": {},
   "outputs": [],
   "source": [
    "train = train.drop(train[train.Minute == '?'].index)\n",
    "train = train.drop(train[train.DHI == '?'].index)\n",
    "train = train.drop(train[train.WS == '?'].index)\n",
    "train = train.drop(train[train.DNI == '?'].index)"
   ]
  },
  {
   "cell_type": "code",
   "execution_count": 4,
   "metadata": {},
   "outputs": [],
   "source": [
    "train.RH = train.RH.fillna(-1)\n",
    "test.RH = test.RH.fillna(-1)"
   ]
  },
  {
   "cell_type": "code",
   "execution_count": 5,
   "metadata": {},
   "outputs": [],
   "source": [
    "train.Minute = pd.to_numeric(train.Minute)\n",
    "train.DHI = pd.to_numeric(train.DHI)\n",
    "train.DNI = pd.to_numeric(train.DNI)\n",
    "train.WS = pd.to_numeric(train.WS)\n",
    "train['T'] = pd.to_numeric(train['T'])\n"
   ]
  },
  {
   "cell_type": "code",
   "execution_count": 6,
   "metadata": {},
   "outputs": [],
   "source": [
    "test.loc[test[test.DHI == '?'].index, 'DHI'] = str(train.DHI.mean())\n",
    "test.loc[test[test.Hour == '?'].index, 'Hour'] = str(train.Hour.value_counts()[:1].index[0])\n",
    "test.loc[test[test.Minute == '?'].index, 'Minute'] = str(train.Minute.value_counts()[:1].index[0])"
   ]
  },
  {
   "cell_type": "code",
   "execution_count": 7,
   "metadata": {},
   "outputs": [],
   "source": [
    "test.Minute = pd.to_numeric(test.Minute)\n",
    "test.DHI = pd.to_numeric(test.DHI)\n",
    "test.DNI = pd.to_numeric(test.DNI)\n",
    "test.WS = pd.to_numeric(test.WS)\n",
    "test['T'] = pd.to_numeric(test['T'])"
   ]
  },
  {
   "cell_type": "code",
   "execution_count": 8,
   "metadata": {},
   "outputs": [],
   "source": [
    "y = train.TARGET\n",
    "x = train.drop('TARGET', axis=1)"
   ]
  },
  {
   "cell_type": "code",
   "execution_count": 9,
   "metadata": {},
   "outputs": [],
   "source": [
    "from sklearn.ensemble import RandomForestRegressor\n",
    "model = RandomForestRegressor(random_state=1)\n",
    "model.fit(x, y)\n",
    "res = model.predict(test)\n",
    "submit = pd.read_csv('sample_submit.csv')\n",
    "submit.TARGET = res\n",
    "submit.to_csv('submit.csv', index=False)"
   ]
  }
 ],
 "metadata": {
  "interpreter": {
   "hash": "3b56a72e9acabfb7e93d1aa640bab3f729f4fa7900e427b4a015597563d3c661"
  },
  "kernelspec": {
   "display_name": "Python 3.9.13 64-bit ('base')",
   "language": "python",
   "name": "python3"
  },
  "language_info": {
   "codemirror_mode": {
    "name": "ipython",
    "version": 3
   },
   "file_extension": ".py",
   "mimetype": "text/x-python",
   "name": "python",
   "nbconvert_exporter": "python",
   "pygments_lexer": "ipython3",
   "version": "3.9.13"
  },
  "orig_nbformat": 4
 },
 "nbformat": 4,
 "nbformat_minor": 2
}
