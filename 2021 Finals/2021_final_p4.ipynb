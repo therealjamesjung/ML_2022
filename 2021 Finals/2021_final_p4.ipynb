{
 "cells": [
  {
   "cell_type": "code",
   "execution_count": 8,
   "metadata": {},
   "outputs": [],
   "source": [
    "import pandas as pd\n",
    "import numpy as np"
   ]
  },
  {
   "cell_type": "code",
   "execution_count": 9,
   "metadata": {},
   "outputs": [],
   "source": [
    "train = pd.read_csv('train.csv')\n",
    "test = pd.read_csv('test.csv')"
   ]
  },
  {
   "cell_type": "code",
   "execution_count": 6,
   "metadata": {},
   "outputs": [],
   "source": [
    "import librosa\n",
    "\n",
    "def extract_feature(file_name):\n",
    "    audio_signal, sample_rate = librosa.load(file_name, sr=16000)\n",
    "\n",
    "    spectogram = np.abs(librosa.stft(audio_signal, n_fft=512))\n",
    "    spec_feature = np.mean(spectogram.T, axis=0)\n",
    "\n",
    "    power_spectogram = spectogram ** 2\n",
    "    mel = librosa.feature.melspectrogram(S=power_spectogram, sr=sample_rate)\n",
    "    mel = librosa.power_to_db(mel)\n",
    "    mel_feature = np.mean(mel.T, axis=0)\n",
    "\n",
    "    mfcc = librosa.feature.mfcc(S=mel)\n",
    "    mfcc_feature = np.mean(mfcc.T, axis=0)\n",
    "\n",
    "    return spec_feature, mel_feature, mfcc_feature\n",
    "\n",
    "\n",
    "\n",
    "\n",
    "\n",
    "\n"
   ]
  },
  {
   "cell_type": "code",
   "execution_count": 11,
   "metadata": {},
   "outputs": [],
   "source": [
    "# import librosa\n",
    "\n",
    "# def extract_feature(file_name):\n",
    "#     audio_signal, sample_rate = librosa.load(file_name, sr=16000)\n",
    "#     spectogram = librosa.stft(audio_signal, n_fft=512)\n",
    "#     spectogram = np.abs(spectogram)\n",
    "#     spectogram_feature = np.mean(spectogram.T, axis=0)\n",
    "\n",
    "#     power_spectogram = spectogram ** 2\n",
    "#     mel = librosa.feature.melspectrogram(S=power_spectogram, sr=sample_rate)\n",
    "#     mel = librosa.power_to_db(mel)\n",
    "#     mel_feature = np.mean(mel.T, axis=0)\n",
    "\n",
    "#     mfccs = librosa.feature.mfcc(S=mel, n_mfcc=20)\n",
    "#     mfcc_feature = np.mean(mfccs.T, axis=0)\n",
    "\n",
    "#     return spectogram_feature, mel_feature, mfcc_feature"
   ]
  },
  {
   "cell_type": "code",
   "execution_count": 12,
   "metadata": {},
   "outputs": [
    {
     "data": {
      "application/vnd.jupyter.widget-view+json": {
       "model_id": "684f59a212a140d2b7ea01de715b943e",
       "version_major": 2,
       "version_minor": 0
      },
      "text/plain": [
       "0it [00:00, ?it/s]"
      ]
     },
     "metadata": {},
     "output_type": "display_data"
    }
   ],
   "source": [
    "from tqdm.notebook import tqdm\n",
    "\n",
    "train_data = {'spec': [], 'mel': [], 'mfcc': []}\n",
    "\n",
    "for file_name, accent in tqdm(zip(train.id, train.accent)):\n",
    "    spec, mel, mfcc = extract_feature('train/' + accent + '/' + file_name)\n",
    "    train_data['spec'].append(spec)\n",
    "    train_data['mel'].append(mel)\n",
    "    train_data['mfcc'].append(mfcc)"
   ]
  },
  {
   "cell_type": "code",
   "execution_count": 13,
   "metadata": {},
   "outputs": [
    {
     "data": {
      "application/vnd.jupyter.widget-view+json": {
       "model_id": "4bea3015eb274852b151b092dc608a0d",
       "version_major": 2,
       "version_minor": 0
      },
      "text/plain": [
       "  0%|          | 0/120 [00:00<?, ?it/s]"
      ]
     },
     "metadata": {},
     "output_type": "display_data"
    }
   ],
   "source": [
    "from tqdm.notebook import tqdm\n",
    "\n",
    "test_data = {'spec': [], 'mel': [], 'mfcc': []}\n",
    "\n",
    "for file_name in tqdm(test.id):\n",
    "    spec, mel, mfcc = extract_feature('test/' + file_name)\n",
    "    test_data['spec'].append(spec)\n",
    "    test_data['mel'].append(mel)\n",
    "    test_data['mfcc'].append(mfcc)"
   ]
  },
  {
   "cell_type": "code",
   "execution_count": 14,
   "metadata": {},
   "outputs": [],
   "source": [
    "from sklearn.ensemble import RandomForestClassifier\n",
    "\n",
    "submit = pd.read_csv('sample_submit.csv')\n",
    "\n",
    "for feature in train_data.keys():\n",
    "    x = train_data[feature]\n",
    "    test_x = test_data[feature]\n",
    "\n",
    "    model = RandomForestClassifier(random_state=1)\n",
    "    model.fit(x, train.accent)\n",
    "    res = model.predict(test_x)\n",
    "    submit.accent = res\n",
    "    submit.to_csv(feature+'.csv', index=False)"
   ]
  }
 ],
 "metadata": {
  "interpreter": {
   "hash": "3b56a72e9acabfb7e93d1aa640bab3f729f4fa7900e427b4a015597563d3c661"
  },
  "kernelspec": {
   "display_name": "Python 3.9.13 64-bit ('base')",
   "language": "python",
   "name": "python3"
  },
  "language_info": {
   "codemirror_mode": {
    "name": "ipython",
    "version": 3
   },
   "file_extension": ".py",
   "mimetype": "text/x-python",
   "name": "python",
   "nbconvert_exporter": "python",
   "pygments_lexer": "ipython3",
   "version": "3.9.13"
  },
  "orig_nbformat": 4
 },
 "nbformat": 4,
 "nbformat_minor": 2
}
